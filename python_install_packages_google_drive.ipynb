{
  "nbformat": 4,
  "nbformat_minor": 0,
  "metadata": {
    "colab": {
      "provenance": [],
      "authorship_tag": "ABX9TyNVK8Uez4+9kqh1TniAHBz7",
      "include_colab_link": true
    },
    "kernelspec": {
      "name": "python3",
      "display_name": "Python 3"
    },
    "language_info": {
      "name": "python"
    }
  },
  "cells": [
    {
      "cell_type": "markdown",
      "metadata": {
        "id": "view-in-github",
        "colab_type": "text"
      },
      "source": [
        "<a href=\"https://colab.research.google.com/github/shiful133/r-python/blob/main/python_install_packages_google_drive.ipynb\" target=\"_parent\"><img src=\"https://colab.research.google.com/assets/colab-badge.svg\" alt=\"Open In Colab\"/></a>"
      ]
    },
    {
      "cell_type": "markdown",
      "source": [
        "# Install Packages in Google Drive\n",
        "In Google Colab, the environment resets after each session, which means that any custom installed packages will not persist between sessions.\n",
        "\n",
        "In each new session, you will need to install your custom packages again. You can do this by running the following command at the beginning of your Colab notebook:\n",
        "\n",
        "\n",
        "```python\n",
        "!pip install package_name #Replace package_name with the name of the package you want to install.\n",
        "```"
      ],
      "metadata": {
        "id": "FXB9FOT8PFTN"
      }
    },
    {
      "cell_type": "markdown",
      "source": [
        "\n",
        "\n",
        "---\n",
        "\n",
        "\n",
        "#### Mounting Google Drive:\n",
        "If you want to persist data, files, or installed packages across different Colab sessions, you can mount your Google Drive. This way, you can save files and packages on your Google Drive, which will be accessible in subsequent sessions.\n",
        "\n",
        "\n"
      ],
      "metadata": {
        "id": "r1j-FjCPQcRR"
      }
    },
    {
      "cell_type": "code",
      "execution_count": 2,
      "metadata": {
        "colab": {
          "base_uri": "https://localhost:8080/"
        },
        "id": "bwLPrYRnO_hM",
        "outputId": "64be9c53-7ea4-4d4a-b21e-37ad299ab2aa"
      },
      "outputs": [
        {
          "output_type": "stream",
          "name": "stdout",
          "text": [
            "Mounted at /content/drive\n"
          ]
        }
      ],
      "source": [
        "# Mounting Google Drive\n",
        "from google.colab import drive\n",
        "drive.mount('/content/drive')"
      ]
    },
    {
      "cell_type": "markdown",
      "source": [
        "\n",
        "\n",
        "---\n",
        "\n",
        "\n",
        "We can see the filelist in any directory using `os.listdir()` command.\n",
        "\n",
        "\n"
      ],
      "metadata": {
        "id": "aSN8-krU3IWZ"
      }
    },
    {
      "cell_type": "code",
      "source": [
        "import os\n",
        "os.listdir('/content/drive/MyDrive/Python/')"
      ],
      "metadata": {
        "id": "GRN3xAevSvS5",
        "colab": {
          "base_uri": "https://localhost:8080/"
        },
        "outputId": "75c5ea8f-ef03-4903-affa-5d36cd7d1463"
      },
      "execution_count": 4,
      "outputs": [
        {
          "output_type": "execute_result",
          "data": {
            "text/plain": [
              "['Untitled folder',\n",
              " 'raj_soil_data.csv',\n",
              " 'bd_arsenic_data.csv',\n",
              " 'bd_district.csv',\n",
              " 'rice_data.csv',\n",
              " 'green_house.csv',\n",
              " 'packages',\n",
              " '.ipynb_checkpoints']"
            ]
          },
          "metadata": {},
          "execution_count": 4
        }
      ]
    },
    {
      "cell_type": "markdown",
      "source": [
        "\n",
        "\n",
        "---\n",
        "\n",
        "\n",
        "In Python, `sys.path` is a list that represents the search path for modules.\n",
        "When you import a module in Python, the interpreter searches for that module in the directories listed in `sys.path`. It's essentially a list of directory paths where Python looks for modules when you use the import statement."
      ],
      "metadata": {
        "id": "_G1JwVb534dp"
      }
    },
    {
      "cell_type": "code",
      "source": [
        "import sys\n",
        "# Show the list of existing paths\n",
        "print(sys.path)"
      ],
      "metadata": {
        "colab": {
          "base_uri": "https://localhost:8080/"
        },
        "id": "cx8Bog-jUL5J",
        "outputId": "4bab6d83-1f6f-41ea-a056-bc82bb2f7e8d"
      },
      "execution_count": null,
      "outputs": [
        {
          "output_type": "stream",
          "name": "stdout",
          "text": [
            "['/content', '/env/python', '/usr/lib/python310.zip', '/usr/lib/python3.10', '/usr/lib/python3.10/lib-dynload', '', '/usr/local/lib/python3.10/dist-packages', '/usr/lib/python3/dist-packages', '/usr/local/lib/python3.10/dist-packages/IPython/extensions', '/root/.ipython']\n"
          ]
        }
      ]
    },
    {
      "cell_type": "markdown",
      "source": [
        "\n",
        "\n",
        "---\n",
        "\n",
        "\n",
        "Now we will add our custom paths to the `sys.path` using `sys.path.append` command."
      ],
      "metadata": {
        "id": "ynFLg4xA4ZIo"
      }
    },
    {
      "cell_type": "code",
      "source": [
        "import sys\n",
        "\n",
        "sys.path.append('/content/drive/MyDrive/Python/packages/')\n",
        "# Custom path is added to the list\n",
        "print(sys.path)\n",
        "\n"
      ],
      "metadata": {
        "colab": {
          "base_uri": "https://localhost:8080/"
        },
        "id": "Y_q5hi4MS4Jx",
        "outputId": "60d5507d-5fdb-4135-a95d-0054f0e61611"
      },
      "execution_count": 5,
      "outputs": [
        {
          "output_type": "stream",
          "name": "stdout",
          "text": [
            "['/content', '/env/python', '/usr/lib/python310.zip', '/usr/lib/python3.10', '/usr/lib/python3.10/lib-dynload', '', '/usr/local/lib/python3.10/dist-packages', '/usr/lib/python3/dist-packages', '/usr/local/lib/python3.10/dist-packages/IPython/extensions', '/root/.ipython', '/content/drive/MyDrive/Python/packages/']\n"
          ]
        }
      ]
    },
    {
      "cell_type": "markdown",
      "source": [
        "\n",
        "\n",
        "---\n",
        "\n",
        "\n",
        "Now we can install packages to our custom location. Here we  will install pyreadstat."
      ],
      "metadata": {
        "id": "wRXx8HjN5wcE"
      }
    },
    {
      "cell_type": "code",
      "source": [
        "# Uncomment the following code to install now\n",
        "#!pip install pyreadstat --target=/content/drive/MyDrive/Python/packages"
      ],
      "metadata": {
        "id": "gHZO0Wq4U4FB"
      },
      "execution_count": null,
      "outputs": []
    },
    {
      "cell_type": "code",
      "source": [
        "import pyreadstat"
      ],
      "metadata": {
        "id": "pWtN-Jj56kMY"
      },
      "execution_count": null,
      "outputs": []
    },
    {
      "cell_type": "markdown",
      "source": [
        "N.B. You need to mount Google Drive and add the custom location in `sys.path` in every colab notebook using following command.\n",
        "\n",
        "\n",
        "\n",
        "```python\n",
        "#Mounting Google Drive\n",
        "from google.colab import drive\n",
        "drive.mount('/content/drive')\n",
        "\n",
        "import sys\n",
        "sys.path.append('/content/drive/MyDrive/Python/packages/') #Replace with your Google Drive path\n",
        "print(sys.path)\n",
        "```\n",
        "\n",
        "\n"
      ],
      "metadata": {
        "id": "CtblBGQu6HNh"
      }
    }
  ]
}