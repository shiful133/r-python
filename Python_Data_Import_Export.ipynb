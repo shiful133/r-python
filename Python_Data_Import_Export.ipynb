{
  "nbformat": 4,
  "nbformat_minor": 0,
  "metadata": {
    "colab": {
      "provenance": [],
      "authorship_tag": "ABX9TyO5+IjFChk5cBwkqVoX6FwT",
      "include_colab_link": true
    },
    "kernelspec": {
      "name": "python3",
      "display_name": "Python 3"
    },
    "language_info": {
      "name": "python"
    }
  },
  "cells": [
    {
      "cell_type": "markdown",
      "metadata": {
        "id": "view-in-github",
        "colab_type": "text"
      },
      "source": [
        "<a href=\"https://colab.research.google.com/github/shiful133/r-python/blob/main/Python_Data_Import_Export.ipynb\" target=\"_parent\"><img src=\"https://colab.research.google.com/assets/colab-badge.svg\" alt=\"Open In Colab\"/></a>"
      ]
    },
    {
      "cell_type": "markdown",
      "source": [
        "#**Data Import-Export in Python**\n",
        "Importing and exporting data in Google Colab, which is a popular platform for working with Python notebooks, involves using various libraries and methods to handle different file formats. Here's a brief guide on how to perform data import and export in Python Colab:\n",
        "\n"
      ],
      "metadata": {
        "id": "wwDBYDPkz7_h"
      }
    },
    {
      "cell_type": "markdown",
      "source": [
        "## Working Directory\n",
        "In Google Colab, the working directory is set to the root directory by default. This root directory contains the Colab notebooks, and you can access files from your Google Drive as well. However, if you want to navigate and work within a specific directory, you can use the %cd magic command to change the current directory. Here's how you can get and change the working directory in Google Colab:"
      ],
      "metadata": {
        "id": "b_PuzqBO6MbJ"
      }
    },
    {
      "cell_type": "markdown",
      "source": [
        "### Get Current Working Directory:"
      ],
      "metadata": {
        "id": "eVrTNnSL6jMV"
      }
    },
    {
      "cell_type": "code",
      "source": [
        "import os\n",
        "\n",
        "# Get current working directory\n",
        "current_directory = os.getcwd()\n",
        "print(\"Current Directory:\", current_directory)"
      ],
      "metadata": {
        "id": "3t-ijkkE6LLs",
        "colab": {
          "base_uri": "https://localhost:8080/"
        },
        "outputId": "377856ef-1163-4d65-e777-803992cda780"
      },
      "execution_count": 38,
      "outputs": [
        {
          "output_type": "stream",
          "name": "stdout",
          "text": [
            "Current Directory: /content\n"
          ]
        }
      ]
    },
    {
      "cell_type": "markdown",
      "source": [
        "### Mounting Google Drive:\n",
        "If you want to access files from your Google Drive or change working directory to a folder in Google Drive, you'll need to mount your Google Drive using the drive.mount() function."
      ],
      "metadata": {
        "id": "fa1o4r_R65Yd"
      }
    },
    {
      "cell_type": "code",
      "execution_count": 2,
      "metadata": {
        "id": "i500RtLmxHa-",
        "colab": {
          "base_uri": "https://localhost:8080/"
        },
        "outputId": "7a9a828c-2eb6-4096-87d5-1f2d417c50f3"
      },
      "outputs": [
        {
          "output_type": "stream",
          "name": "stdout",
          "text": [
            "Mounted at /content/drive\n"
          ]
        }
      ],
      "source": [
        "from google.colab import drive\n",
        "\n",
        "drive.mount('/content/drive')  # Mount Google Drive"
      ]
    },
    {
      "cell_type": "markdown",
      "source": [
        "###Change Working Directory:"
      ],
      "metadata": {
        "id": "mLRRTpwA8OaD"
      }
    },
    {
      "cell_type": "code",
      "source": [
        "# Change working directory\n",
        "new_directory = '/content/drive/MyDrive/Python'  # Replace with your desired directory path\n",
        "%cd \"$new_directory\"\n"
      ],
      "metadata": {
        "id": "zalYVp4s8OyJ",
        "outputId": "d67d082a-f10b-4ebc-f24c-fc997ab44787",
        "colab": {
          "base_uri": "https://localhost:8080/"
        }
      },
      "execution_count": 3,
      "outputs": [
        {
          "output_type": "stream",
          "name": "stdout",
          "text": [
            "/content/drive/MyDrive/Python\n"
          ]
        }
      ]
    },
    {
      "cell_type": "markdown",
      "source": [
        "### Check Files in the Directory:"
      ],
      "metadata": {
        "id": "D-d9RMKNSmQI"
      }
    },
    {
      "cell_type": "code",
      "source": [
        "# check files in any directory\n",
        "os.listdir('/content/drive/MyDrive/Python')\n",
        "# or just os.listdir() for current working directory"
      ],
      "metadata": {
        "id": "bZC_eQsQHdsk"
      },
      "execution_count": null,
      "outputs": []
    },
    {
      "cell_type": "markdown",
      "source": [
        "##Read/Import Data into Python:"
      ],
      "metadata": {
        "id": "dFWS21HibMiG"
      }
    },
    {
      "cell_type": "markdown",
      "source": [
        "### Reading CSV Files:\n",
        "\n",
        "You can use the `pandas` library to read CSV files in Colab. If the file is hosted online, you can directly provide the URL. If the file is uploaded to Colab, you can use the file upload widget."
      ],
      "metadata": {
        "id": "_WqysIeIRKzb"
      }
    },
    {
      "cell_type": "code",
      "source": [
        "import pandas as pd"
      ],
      "metadata": {
        "id": "5EIQZzffNXVx"
      },
      "execution_count": 2,
      "outputs": []
    },
    {
      "cell_type": "markdown",
      "source": [
        "#### Read from Google Drive:"
      ],
      "metadata": {
        "id": "hzJ8CYnZs9Mk"
      }
    },
    {
      "cell_type": "code",
      "source": [
        "data_folder_drive = \"/content/drive/MyDrive/data/\"\n",
        "test_data_csv = pd.read_csv(data_folder_drive + \"test_data.csv\")\n",
        "test_data_csv.head()"
      ],
      "metadata": {
        "colab": {
          "base_uri": "https://localhost:8080/",
          "height": 206
        },
        "id": "oQL0F9Eds9iI",
        "outputId": "614cff2a-3849-4997-86f8-19383dcce823"
      },
      "execution_count": 4,
      "outputs": [
        {
          "output_type": "execute_result",
          "data": {
            "text/plain": [
              "   ID   treat   var  rep     PH    TN    PN    GW  ster    DTM    SW    GAs  \\\n",
              "0   1  Low As  BR01    1   84.0  28.3  27.7  35.7  20.5  126.0  28.4  0.762   \n",
              "1   2  Low As  BR01    2  111.7  34.0  30.0  58.1  14.8  119.0  36.7  0.722   \n",
              "2   3  Low As  BR01    3  102.3  27.7  24.0  44.6   5.8  119.7  32.9  0.858   \n",
              "3   4  Low As  BR06    1  118.0  23.3  19.7  46.4  20.3  119.0  40.0  1.053   \n",
              "4   5  Low As  BR06    2  115.3  16.7  12.3  19.9  32.3  120.0  28.2  1.130   \n",
              "\n",
              "    STAs  \n",
              "0  14.60  \n",
              "1  10.77  \n",
              "2  12.69  \n",
              "3  18.23  \n",
              "4  13.72  "
            ],
            "text/html": [
              "\n",
              "\n",
              "  <div id=\"df-8931e51e-a51d-4937-8fb4-27d921d03005\">\n",
              "    <div class=\"colab-df-container\">\n",
              "      <div>\n",
              "<style scoped>\n",
              "    .dataframe tbody tr th:only-of-type {\n",
              "        vertical-align: middle;\n",
              "    }\n",
              "\n",
              "    .dataframe tbody tr th {\n",
              "        vertical-align: top;\n",
              "    }\n",
              "\n",
              "    .dataframe thead th {\n",
              "        text-align: right;\n",
              "    }\n",
              "</style>\n",
              "<table border=\"1\" class=\"dataframe\">\n",
              "  <thead>\n",
              "    <tr style=\"text-align: right;\">\n",
              "      <th></th>\n",
              "      <th>ID</th>\n",
              "      <th>treat</th>\n",
              "      <th>var</th>\n",
              "      <th>rep</th>\n",
              "      <th>PH</th>\n",
              "      <th>TN</th>\n",
              "      <th>PN</th>\n",
              "      <th>GW</th>\n",
              "      <th>ster</th>\n",
              "      <th>DTM</th>\n",
              "      <th>SW</th>\n",
              "      <th>GAs</th>\n",
              "      <th>STAs</th>\n",
              "    </tr>\n",
              "  </thead>\n",
              "  <tbody>\n",
              "    <tr>\n",
              "      <th>0</th>\n",
              "      <td>1</td>\n",
              "      <td>Low As</td>\n",
              "      <td>BR01</td>\n",
              "      <td>1</td>\n",
              "      <td>84.0</td>\n",
              "      <td>28.3</td>\n",
              "      <td>27.7</td>\n",
              "      <td>35.7</td>\n",
              "      <td>20.5</td>\n",
              "      <td>126.0</td>\n",
              "      <td>28.4</td>\n",
              "      <td>0.762</td>\n",
              "      <td>14.60</td>\n",
              "    </tr>\n",
              "    <tr>\n",
              "      <th>1</th>\n",
              "      <td>2</td>\n",
              "      <td>Low As</td>\n",
              "      <td>BR01</td>\n",
              "      <td>2</td>\n",
              "      <td>111.7</td>\n",
              "      <td>34.0</td>\n",
              "      <td>30.0</td>\n",
              "      <td>58.1</td>\n",
              "      <td>14.8</td>\n",
              "      <td>119.0</td>\n",
              "      <td>36.7</td>\n",
              "      <td>0.722</td>\n",
              "      <td>10.77</td>\n",
              "    </tr>\n",
              "    <tr>\n",
              "      <th>2</th>\n",
              "      <td>3</td>\n",
              "      <td>Low As</td>\n",
              "      <td>BR01</td>\n",
              "      <td>3</td>\n",
              "      <td>102.3</td>\n",
              "      <td>27.7</td>\n",
              "      <td>24.0</td>\n",
              "      <td>44.6</td>\n",
              "      <td>5.8</td>\n",
              "      <td>119.7</td>\n",
              "      <td>32.9</td>\n",
              "      <td>0.858</td>\n",
              "      <td>12.69</td>\n",
              "    </tr>\n",
              "    <tr>\n",
              "      <th>3</th>\n",
              "      <td>4</td>\n",
              "      <td>Low As</td>\n",
              "      <td>BR06</td>\n",
              "      <td>1</td>\n",
              "      <td>118.0</td>\n",
              "      <td>23.3</td>\n",
              "      <td>19.7</td>\n",
              "      <td>46.4</td>\n",
              "      <td>20.3</td>\n",
              "      <td>119.0</td>\n",
              "      <td>40.0</td>\n",
              "      <td>1.053</td>\n",
              "      <td>18.23</td>\n",
              "    </tr>\n",
              "    <tr>\n",
              "      <th>4</th>\n",
              "      <td>5</td>\n",
              "      <td>Low As</td>\n",
              "      <td>BR06</td>\n",
              "      <td>2</td>\n",
              "      <td>115.3</td>\n",
              "      <td>16.7</td>\n",
              "      <td>12.3</td>\n",
              "      <td>19.9</td>\n",
              "      <td>32.3</td>\n",
              "      <td>120.0</td>\n",
              "      <td>28.2</td>\n",
              "      <td>1.130</td>\n",
              "      <td>13.72</td>\n",
              "    </tr>\n",
              "  </tbody>\n",
              "</table>\n",
              "</div>\n",
              "      <button class=\"colab-df-convert\" onclick=\"convertToInteractive('df-8931e51e-a51d-4937-8fb4-27d921d03005')\"\n",
              "              title=\"Convert this dataframe to an interactive table.\"\n",
              "              style=\"display:none;\">\n",
              "\n",
              "  <svg xmlns=\"http://www.w3.org/2000/svg\" height=\"24px\"viewBox=\"0 0 24 24\"\n",
              "       width=\"24px\">\n",
              "    <path d=\"M0 0h24v24H0V0z\" fill=\"none\"/>\n",
              "    <path d=\"M18.56 5.44l.94 2.06.94-2.06 2.06-.94-2.06-.94-.94-2.06-.94 2.06-2.06.94zm-11 1L8.5 8.5l.94-2.06 2.06-.94-2.06-.94L8.5 2.5l-.94 2.06-2.06.94zm10 10l.94 2.06.94-2.06 2.06-.94-2.06-.94-.94-2.06-.94 2.06-2.06.94z\"/><path d=\"M17.41 7.96l-1.37-1.37c-.4-.4-.92-.59-1.43-.59-.52 0-1.04.2-1.43.59L10.3 9.45l-7.72 7.72c-.78.78-.78 2.05 0 2.83L4 21.41c.39.39.9.59 1.41.59.51 0 1.02-.2 1.41-.59l7.78-7.78 2.81-2.81c.8-.78.8-2.07 0-2.86zM5.41 20L4 18.59l7.72-7.72 1.47 1.35L5.41 20z\"/>\n",
              "  </svg>\n",
              "      </button>\n",
              "\n",
              "\n",
              "\n",
              "    <div id=\"df-a74faa04-af7e-43e5-a6b9-cb70d1697be7\">\n",
              "      <button class=\"colab-df-quickchart\" onclick=\"quickchart('df-a74faa04-af7e-43e5-a6b9-cb70d1697be7')\"\n",
              "              title=\"Suggest charts.\"\n",
              "              style=\"display:none;\">\n",
              "\n",
              "<svg xmlns=\"http://www.w3.org/2000/svg\" height=\"24px\"viewBox=\"0 0 24 24\"\n",
              "     width=\"24px\">\n",
              "    <g>\n",
              "        <path d=\"M19 3H5c-1.1 0-2 .9-2 2v14c0 1.1.9 2 2 2h14c1.1 0 2-.9 2-2V5c0-1.1-.9-2-2-2zM9 17H7v-7h2v7zm4 0h-2V7h2v10zm4 0h-2v-4h2v4z\"/>\n",
              "    </g>\n",
              "</svg>\n",
              "      </button>\n",
              "    </div>\n",
              "\n",
              "<style>\n",
              "  .colab-df-quickchart {\n",
              "    background-color: #E8F0FE;\n",
              "    border: none;\n",
              "    border-radius: 50%;\n",
              "    cursor: pointer;\n",
              "    display: none;\n",
              "    fill: #1967D2;\n",
              "    height: 32px;\n",
              "    padding: 0 0 0 0;\n",
              "    width: 32px;\n",
              "  }\n",
              "\n",
              "  .colab-df-quickchart:hover {\n",
              "    background-color: #E2EBFA;\n",
              "    box-shadow: 0px 1px 2px rgba(60, 64, 67, 0.3), 0px 1px 3px 1px rgba(60, 64, 67, 0.15);\n",
              "    fill: #174EA6;\n",
              "  }\n",
              "\n",
              "  [theme=dark] .colab-df-quickchart {\n",
              "    background-color: #3B4455;\n",
              "    fill: #D2E3FC;\n",
              "  }\n",
              "\n",
              "  [theme=dark] .colab-df-quickchart:hover {\n",
              "    background-color: #434B5C;\n",
              "    box-shadow: 0px 1px 3px 1px rgba(0, 0, 0, 0.15);\n",
              "    filter: drop-shadow(0px 1px 2px rgba(0, 0, 0, 0.3));\n",
              "    fill: #FFFFFF;\n",
              "  }\n",
              "</style>\n",
              "\n",
              "    <script>\n",
              "      async function quickchart(key) {\n",
              "        const containerElement = document.querySelector('#' + key);\n",
              "        const charts = await google.colab.kernel.invokeFunction(\n",
              "            'suggestCharts', [key], {});\n",
              "      }\n",
              "    </script>\n",
              "\n",
              "      <script>\n",
              "\n",
              "function displayQuickchartButton(domScope) {\n",
              "  let quickchartButtonEl =\n",
              "    domScope.querySelector('#df-a74faa04-af7e-43e5-a6b9-cb70d1697be7 button.colab-df-quickchart');\n",
              "  quickchartButtonEl.style.display =\n",
              "    google.colab.kernel.accessAllowed ? 'block' : 'none';\n",
              "}\n",
              "\n",
              "        displayQuickchartButton(document);\n",
              "      </script>\n",
              "      <style>\n",
              "    .colab-df-container {\n",
              "      display:flex;\n",
              "      flex-wrap:wrap;\n",
              "      gap: 12px;\n",
              "    }\n",
              "\n",
              "    .colab-df-convert {\n",
              "      background-color: #E8F0FE;\n",
              "      border: none;\n",
              "      border-radius: 50%;\n",
              "      cursor: pointer;\n",
              "      display: none;\n",
              "      fill: #1967D2;\n",
              "      height: 32px;\n",
              "      padding: 0 0 0 0;\n",
              "      width: 32px;\n",
              "    }\n",
              "\n",
              "    .colab-df-convert:hover {\n",
              "      background-color: #E2EBFA;\n",
              "      box-shadow: 0px 1px 2px rgba(60, 64, 67, 0.3), 0px 1px 3px 1px rgba(60, 64, 67, 0.15);\n",
              "      fill: #174EA6;\n",
              "    }\n",
              "\n",
              "    [theme=dark] .colab-df-convert {\n",
              "      background-color: #3B4455;\n",
              "      fill: #D2E3FC;\n",
              "    }\n",
              "\n",
              "    [theme=dark] .colab-df-convert:hover {\n",
              "      background-color: #434B5C;\n",
              "      box-shadow: 0px 1px 3px 1px rgba(0, 0, 0, 0.15);\n",
              "      filter: drop-shadow(0px 1px 2px rgba(0, 0, 0, 0.3));\n",
              "      fill: #FFFFFF;\n",
              "    }\n",
              "  </style>\n",
              "\n",
              "      <script>\n",
              "        const buttonEl =\n",
              "          document.querySelector('#df-8931e51e-a51d-4937-8fb4-27d921d03005 button.colab-df-convert');\n",
              "        buttonEl.style.display =\n",
              "          google.colab.kernel.accessAllowed ? 'block' : 'none';\n",
              "\n",
              "        async function convertToInteractive(key) {\n",
              "          const element = document.querySelector('#df-8931e51e-a51d-4937-8fb4-27d921d03005');\n",
              "          const dataTable =\n",
              "            await google.colab.kernel.invokeFunction('convertToInteractive',\n",
              "                                                     [key], {});\n",
              "          if (!dataTable) return;\n",
              "\n",
              "          const docLinkHtml = 'Like what you see? Visit the ' +\n",
              "            '<a target=\"_blank\" href=https://colab.research.google.com/notebooks/data_table.ipynb>data table notebook</a>'\n",
              "            + ' to learn more about interactive tables.';\n",
              "          element.innerHTML = '';\n",
              "          dataTable['output_type'] = 'display_data';\n",
              "          await google.colab.output.renderOutput(dataTable, element);\n",
              "          const docLink = document.createElement('div');\n",
              "          docLink.innerHTML = docLinkHtml;\n",
              "          element.appendChild(docLink);\n",
              "        }\n",
              "      </script>\n",
              "    </div>\n",
              "  </div>\n"
            ]
          },
          "metadata": {},
          "execution_count": 4
        }
      ]
    },
    {
      "cell_type": "markdown",
      "source": [
        "#### Read from URL:"
      ],
      "metadata": {
        "id": "BOgyjWKhs9pw"
      }
    },
    {
      "cell_type": "code",
      "source": [
        "data_folder = \"https://github.com/shiful133/data/raw/main/soil_data/\"\n",
        "\n",
        "test_data_csv = pd.read_csv(data_folder + \"test_data.csv\")\n",
        "test_data_csv.head()"
      ],
      "metadata": {
        "id": "kmfyoH9TbT5A",
        "outputId": "8c23c106-65fa-427f-f454-8c43bff98365",
        "colab": {
          "base_uri": "https://localhost:8080/",
          "height": 206
        }
      },
      "execution_count": 7,
      "outputs": [
        {
          "output_type": "execute_result",
          "data": {
            "text/plain": [
              "   ID   treat   var  rep     PH    TN    PN    GW  ster    DTM    SW    GAs  \\\n",
              "0   1  Low As  BR01    1   84.0  28.3  27.7  35.7  20.5  126.0  28.4  0.762   \n",
              "1   2  Low As  BR01    2  111.7  34.0  30.0  58.1  14.8  119.0  36.7  0.722   \n",
              "2   3  Low As  BR01    3  102.3  27.7  24.0  44.6   5.8  119.7  32.9  0.858   \n",
              "3   4  Low As  BR06    1  118.0  23.3  19.7  46.4  20.3  119.0  40.0  1.053   \n",
              "4   5  Low As  BR06    2  115.3  16.7  12.3  19.9  32.3  120.0  28.2  1.130   \n",
              "\n",
              "    STAs  \n",
              "0  14.60  \n",
              "1  10.77  \n",
              "2  12.69  \n",
              "3  18.23  \n",
              "4  13.72  "
            ],
            "text/html": [
              "\n",
              "\n",
              "  <div id=\"df-2e421a80-e40b-4b23-ae66-104c66dbc939\">\n",
              "    <div class=\"colab-df-container\">\n",
              "      <div>\n",
              "<style scoped>\n",
              "    .dataframe tbody tr th:only-of-type {\n",
              "        vertical-align: middle;\n",
              "    }\n",
              "\n",
              "    .dataframe tbody tr th {\n",
              "        vertical-align: top;\n",
              "    }\n",
              "\n",
              "    .dataframe thead th {\n",
              "        text-align: right;\n",
              "    }\n",
              "</style>\n",
              "<table border=\"1\" class=\"dataframe\">\n",
              "  <thead>\n",
              "    <tr style=\"text-align: right;\">\n",
              "      <th></th>\n",
              "      <th>ID</th>\n",
              "      <th>treat</th>\n",
              "      <th>var</th>\n",
              "      <th>rep</th>\n",
              "      <th>PH</th>\n",
              "      <th>TN</th>\n",
              "      <th>PN</th>\n",
              "      <th>GW</th>\n",
              "      <th>ster</th>\n",
              "      <th>DTM</th>\n",
              "      <th>SW</th>\n",
              "      <th>GAs</th>\n",
              "      <th>STAs</th>\n",
              "    </tr>\n",
              "  </thead>\n",
              "  <tbody>\n",
              "    <tr>\n",
              "      <th>0</th>\n",
              "      <td>1</td>\n",
              "      <td>Low As</td>\n",
              "      <td>BR01</td>\n",
              "      <td>1</td>\n",
              "      <td>84.0</td>\n",
              "      <td>28.3</td>\n",
              "      <td>27.7</td>\n",
              "      <td>35.7</td>\n",
              "      <td>20.5</td>\n",
              "      <td>126.0</td>\n",
              "      <td>28.4</td>\n",
              "      <td>0.762</td>\n",
              "      <td>14.60</td>\n",
              "    </tr>\n",
              "    <tr>\n",
              "      <th>1</th>\n",
              "      <td>2</td>\n",
              "      <td>Low As</td>\n",
              "      <td>BR01</td>\n",
              "      <td>2</td>\n",
              "      <td>111.7</td>\n",
              "      <td>34.0</td>\n",
              "      <td>30.0</td>\n",
              "      <td>58.1</td>\n",
              "      <td>14.8</td>\n",
              "      <td>119.0</td>\n",
              "      <td>36.7</td>\n",
              "      <td>0.722</td>\n",
              "      <td>10.77</td>\n",
              "    </tr>\n",
              "    <tr>\n",
              "      <th>2</th>\n",
              "      <td>3</td>\n",
              "      <td>Low As</td>\n",
              "      <td>BR01</td>\n",
              "      <td>3</td>\n",
              "      <td>102.3</td>\n",
              "      <td>27.7</td>\n",
              "      <td>24.0</td>\n",
              "      <td>44.6</td>\n",
              "      <td>5.8</td>\n",
              "      <td>119.7</td>\n",
              "      <td>32.9</td>\n",
              "      <td>0.858</td>\n",
              "      <td>12.69</td>\n",
              "    </tr>\n",
              "    <tr>\n",
              "      <th>3</th>\n",
              "      <td>4</td>\n",
              "      <td>Low As</td>\n",
              "      <td>BR06</td>\n",
              "      <td>1</td>\n",
              "      <td>118.0</td>\n",
              "      <td>23.3</td>\n",
              "      <td>19.7</td>\n",
              "      <td>46.4</td>\n",
              "      <td>20.3</td>\n",
              "      <td>119.0</td>\n",
              "      <td>40.0</td>\n",
              "      <td>1.053</td>\n",
              "      <td>18.23</td>\n",
              "    </tr>\n",
              "    <tr>\n",
              "      <th>4</th>\n",
              "      <td>5</td>\n",
              "      <td>Low As</td>\n",
              "      <td>BR06</td>\n",
              "      <td>2</td>\n",
              "      <td>115.3</td>\n",
              "      <td>16.7</td>\n",
              "      <td>12.3</td>\n",
              "      <td>19.9</td>\n",
              "      <td>32.3</td>\n",
              "      <td>120.0</td>\n",
              "      <td>28.2</td>\n",
              "      <td>1.130</td>\n",
              "      <td>13.72</td>\n",
              "    </tr>\n",
              "  </tbody>\n",
              "</table>\n",
              "</div>\n",
              "      <button class=\"colab-df-convert\" onclick=\"convertToInteractive('df-2e421a80-e40b-4b23-ae66-104c66dbc939')\"\n",
              "              title=\"Convert this dataframe to an interactive table.\"\n",
              "              style=\"display:none;\">\n",
              "\n",
              "  <svg xmlns=\"http://www.w3.org/2000/svg\" height=\"24px\"viewBox=\"0 0 24 24\"\n",
              "       width=\"24px\">\n",
              "    <path d=\"M0 0h24v24H0V0z\" fill=\"none\"/>\n",
              "    <path d=\"M18.56 5.44l.94 2.06.94-2.06 2.06-.94-2.06-.94-.94-2.06-.94 2.06-2.06.94zm-11 1L8.5 8.5l.94-2.06 2.06-.94-2.06-.94L8.5 2.5l-.94 2.06-2.06.94zm10 10l.94 2.06.94-2.06 2.06-.94-2.06-.94-.94-2.06-.94 2.06-2.06.94z\"/><path d=\"M17.41 7.96l-1.37-1.37c-.4-.4-.92-.59-1.43-.59-.52 0-1.04.2-1.43.59L10.3 9.45l-7.72 7.72c-.78.78-.78 2.05 0 2.83L4 21.41c.39.39.9.59 1.41.59.51 0 1.02-.2 1.41-.59l7.78-7.78 2.81-2.81c.8-.78.8-2.07 0-2.86zM5.41 20L4 18.59l7.72-7.72 1.47 1.35L5.41 20z\"/>\n",
              "  </svg>\n",
              "      </button>\n",
              "\n",
              "\n",
              "\n",
              "    <div id=\"df-e8191f85-3970-4a4e-95fc-5d4038729f1c\">\n",
              "      <button class=\"colab-df-quickchart\" onclick=\"quickchart('df-e8191f85-3970-4a4e-95fc-5d4038729f1c')\"\n",
              "              title=\"Suggest charts.\"\n",
              "              style=\"display:none;\">\n",
              "\n",
              "<svg xmlns=\"http://www.w3.org/2000/svg\" height=\"24px\"viewBox=\"0 0 24 24\"\n",
              "     width=\"24px\">\n",
              "    <g>\n",
              "        <path d=\"M19 3H5c-1.1 0-2 .9-2 2v14c0 1.1.9 2 2 2h14c1.1 0 2-.9 2-2V5c0-1.1-.9-2-2-2zM9 17H7v-7h2v7zm4 0h-2V7h2v10zm4 0h-2v-4h2v4z\"/>\n",
              "    </g>\n",
              "</svg>\n",
              "      </button>\n",
              "    </div>\n",
              "\n",
              "<style>\n",
              "  .colab-df-quickchart {\n",
              "    background-color: #E8F0FE;\n",
              "    border: none;\n",
              "    border-radius: 50%;\n",
              "    cursor: pointer;\n",
              "    display: none;\n",
              "    fill: #1967D2;\n",
              "    height: 32px;\n",
              "    padding: 0 0 0 0;\n",
              "    width: 32px;\n",
              "  }\n",
              "\n",
              "  .colab-df-quickchart:hover {\n",
              "    background-color: #E2EBFA;\n",
              "    box-shadow: 0px 1px 2px rgba(60, 64, 67, 0.3), 0px 1px 3px 1px rgba(60, 64, 67, 0.15);\n",
              "    fill: #174EA6;\n",
              "  }\n",
              "\n",
              "  [theme=dark] .colab-df-quickchart {\n",
              "    background-color: #3B4455;\n",
              "    fill: #D2E3FC;\n",
              "  }\n",
              "\n",
              "  [theme=dark] .colab-df-quickchart:hover {\n",
              "    background-color: #434B5C;\n",
              "    box-shadow: 0px 1px 3px 1px rgba(0, 0, 0, 0.15);\n",
              "    filter: drop-shadow(0px 1px 2px rgba(0, 0, 0, 0.3));\n",
              "    fill: #FFFFFF;\n",
              "  }\n",
              "</style>\n",
              "\n",
              "    <script>\n",
              "      async function quickchart(key) {\n",
              "        const containerElement = document.querySelector('#' + key);\n",
              "        const charts = await google.colab.kernel.invokeFunction(\n",
              "            'suggestCharts', [key], {});\n",
              "      }\n",
              "    </script>\n",
              "\n",
              "      <script>\n",
              "\n",
              "function displayQuickchartButton(domScope) {\n",
              "  let quickchartButtonEl =\n",
              "    domScope.querySelector('#df-e8191f85-3970-4a4e-95fc-5d4038729f1c button.colab-df-quickchart');\n",
              "  quickchartButtonEl.style.display =\n",
              "    google.colab.kernel.accessAllowed ? 'block' : 'none';\n",
              "}\n",
              "\n",
              "        displayQuickchartButton(document);\n",
              "      </script>\n",
              "      <style>\n",
              "    .colab-df-container {\n",
              "      display:flex;\n",
              "      flex-wrap:wrap;\n",
              "      gap: 12px;\n",
              "    }\n",
              "\n",
              "    .colab-df-convert {\n",
              "      background-color: #E8F0FE;\n",
              "      border: none;\n",
              "      border-radius: 50%;\n",
              "      cursor: pointer;\n",
              "      display: none;\n",
              "      fill: #1967D2;\n",
              "      height: 32px;\n",
              "      padding: 0 0 0 0;\n",
              "      width: 32px;\n",
              "    }\n",
              "\n",
              "    .colab-df-convert:hover {\n",
              "      background-color: #E2EBFA;\n",
              "      box-shadow: 0px 1px 2px rgba(60, 64, 67, 0.3), 0px 1px 3px 1px rgba(60, 64, 67, 0.15);\n",
              "      fill: #174EA6;\n",
              "    }\n",
              "\n",
              "    [theme=dark] .colab-df-convert {\n",
              "      background-color: #3B4455;\n",
              "      fill: #D2E3FC;\n",
              "    }\n",
              "\n",
              "    [theme=dark] .colab-df-convert:hover {\n",
              "      background-color: #434B5C;\n",
              "      box-shadow: 0px 1px 3px 1px rgba(0, 0, 0, 0.15);\n",
              "      filter: drop-shadow(0px 1px 2px rgba(0, 0, 0, 0.3));\n",
              "      fill: #FFFFFF;\n",
              "    }\n",
              "  </style>\n",
              "\n",
              "      <script>\n",
              "        const buttonEl =\n",
              "          document.querySelector('#df-2e421a80-e40b-4b23-ae66-104c66dbc939 button.colab-df-convert');\n",
              "        buttonEl.style.display =\n",
              "          google.colab.kernel.accessAllowed ? 'block' : 'none';\n",
              "\n",
              "        async function convertToInteractive(key) {\n",
              "          const element = document.querySelector('#df-2e421a80-e40b-4b23-ae66-104c66dbc939');\n",
              "          const dataTable =\n",
              "            await google.colab.kernel.invokeFunction('convertToInteractive',\n",
              "                                                     [key], {});\n",
              "          if (!dataTable) return;\n",
              "\n",
              "          const docLinkHtml = 'Like what you see? Visit the ' +\n",
              "            '<a target=\"_blank\" href=https://colab.research.google.com/notebooks/data_table.ipynb>data table notebook</a>'\n",
              "            + ' to learn more about interactive tables.';\n",
              "          element.innerHTML = '';\n",
              "          dataTable['output_type'] = 'display_data';\n",
              "          await google.colab.output.renderOutput(dataTable, element);\n",
              "          const docLink = document.createElement('div');\n",
              "          docLink.innerHTML = docLinkHtml;\n",
              "          element.appendChild(docLink);\n",
              "        }\n",
              "      </script>\n",
              "    </div>\n",
              "  </div>\n"
            ]
          },
          "metadata": {},
          "execution_count": 7
        }
      ]
    },
    {
      "cell_type": "markdown",
      "source": [
        "### Reading XLSX Files:\n",
        "\n",
        "You can also use the pandas library to read XLSX files."
      ],
      "metadata": {
        "id": "rC3-HVXbR1BV"
      }
    },
    {
      "cell_type": "code",
      "source": [
        "test_data_xlsx = pd.read_excel(data_folder + \"test_data.xlsx\") # data_folder variable defined in previous code block\n",
        "# Get Column names of dataframe\n",
        "column_names = test_data_xlsx.columns.tolist()\n",
        "print(column_names)"
      ],
      "metadata": {
        "colab": {
          "base_uri": "https://localhost:8080/"
        },
        "id": "0X9lSgfZR4G8",
        "outputId": "20765c02-7180-4dfc-fe97-7c4e81c04fd1"
      },
      "execution_count": 42,
      "outputs": [
        {
          "output_type": "stream",
          "name": "stdout",
          "text": [
            "['ID', 'treat', 'var', 'rep', 'PH', 'TN', 'PN', 'GW', 'ster', 'DTM', 'SW', 'GAs', 'STAs']\n"
          ]
        }
      ]
    },
    {
      "cell_type": "markdown",
      "source": [
        "###Reading .txt Files:\n",
        "You can use pandas to read TXT files. Reading tab separated, or comma separated txt file is very similar to reading CSV files. Since tab-separated values are essentially a form of delimited text, you can use the read_csv() function of pandas and specify the delimiter as a tab character."
      ],
      "metadata": {
        "id": "kInpXmV4UeTy"
      }
    },
    {
      "cell_type": "code",
      "source": [
        "test_data_txt = pd.read_csv(data_folder + \"test_data.txt\", delimiter='\\t') # data_folder variable defined in previous code block\n",
        "# Show first 5 rows for quick view with .head()\n",
        "test_data_txt.head()"
      ],
      "metadata": {
        "colab": {
          "base_uri": "https://localhost:8080/",
          "height": 206
        },
        "id": "Q4wQxpzLUdiD",
        "outputId": "50ced326-91f6-453e-defa-25434e5f0bd2"
      },
      "execution_count": 34,
      "outputs": [
        {
          "output_type": "execute_result",
          "data": {
            "text/plain": [
              "   ID   treat   var  rep     PH    TN    PN    GW  ster    DTM    SW    GAs  \\\n",
              "0   1  Low As  BR01    1   84.0  28.3  27.7  35.7  20.5  126.0  28.4  0.762   \n",
              "1   2  Low As  BR01    2  111.7  34.0  30.0  58.1  14.8  119.0  36.7  0.722   \n",
              "2   3  Low As  BR01    3  102.3  27.7  24.0  44.6   5.8  119.7  32.9  0.858   \n",
              "3   4  Low As  BR06    1  118.0  23.3  19.7  46.4  20.3  119.0  40.0  1.053   \n",
              "4   5  Low As  BR06    2  115.3  16.7  12.3  19.9  32.3  120.0  28.2  1.130   \n",
              "\n",
              "    STAs  \n",
              "0  14.60  \n",
              "1  10.77  \n",
              "2  12.69  \n",
              "3  18.23  \n",
              "4  13.72  "
            ],
            "text/html": [
              "\n",
              "\n",
              "  <div id=\"df-4acc1dbe-8c44-43d4-82cd-aed4d94db2ee\">\n",
              "    <div class=\"colab-df-container\">\n",
              "      <div>\n",
              "<style scoped>\n",
              "    .dataframe tbody tr th:only-of-type {\n",
              "        vertical-align: middle;\n",
              "    }\n",
              "\n",
              "    .dataframe tbody tr th {\n",
              "        vertical-align: top;\n",
              "    }\n",
              "\n",
              "    .dataframe thead th {\n",
              "        text-align: right;\n",
              "    }\n",
              "</style>\n",
              "<table border=\"1\" class=\"dataframe\">\n",
              "  <thead>\n",
              "    <tr style=\"text-align: right;\">\n",
              "      <th></th>\n",
              "      <th>ID</th>\n",
              "      <th>treat</th>\n",
              "      <th>var</th>\n",
              "      <th>rep</th>\n",
              "      <th>PH</th>\n",
              "      <th>TN</th>\n",
              "      <th>PN</th>\n",
              "      <th>GW</th>\n",
              "      <th>ster</th>\n",
              "      <th>DTM</th>\n",
              "      <th>SW</th>\n",
              "      <th>GAs</th>\n",
              "      <th>STAs</th>\n",
              "    </tr>\n",
              "  </thead>\n",
              "  <tbody>\n",
              "    <tr>\n",
              "      <th>0</th>\n",
              "      <td>1</td>\n",
              "      <td>Low As</td>\n",
              "      <td>BR01</td>\n",
              "      <td>1</td>\n",
              "      <td>84.0</td>\n",
              "      <td>28.3</td>\n",
              "      <td>27.7</td>\n",
              "      <td>35.7</td>\n",
              "      <td>20.5</td>\n",
              "      <td>126.0</td>\n",
              "      <td>28.4</td>\n",
              "      <td>0.762</td>\n",
              "      <td>14.60</td>\n",
              "    </tr>\n",
              "    <tr>\n",
              "      <th>1</th>\n",
              "      <td>2</td>\n",
              "      <td>Low As</td>\n",
              "      <td>BR01</td>\n",
              "      <td>2</td>\n",
              "      <td>111.7</td>\n",
              "      <td>34.0</td>\n",
              "      <td>30.0</td>\n",
              "      <td>58.1</td>\n",
              "      <td>14.8</td>\n",
              "      <td>119.0</td>\n",
              "      <td>36.7</td>\n",
              "      <td>0.722</td>\n",
              "      <td>10.77</td>\n",
              "    </tr>\n",
              "    <tr>\n",
              "      <th>2</th>\n",
              "      <td>3</td>\n",
              "      <td>Low As</td>\n",
              "      <td>BR01</td>\n",
              "      <td>3</td>\n",
              "      <td>102.3</td>\n",
              "      <td>27.7</td>\n",
              "      <td>24.0</td>\n",
              "      <td>44.6</td>\n",
              "      <td>5.8</td>\n",
              "      <td>119.7</td>\n",
              "      <td>32.9</td>\n",
              "      <td>0.858</td>\n",
              "      <td>12.69</td>\n",
              "    </tr>\n",
              "    <tr>\n",
              "      <th>3</th>\n",
              "      <td>4</td>\n",
              "      <td>Low As</td>\n",
              "      <td>BR06</td>\n",
              "      <td>1</td>\n",
              "      <td>118.0</td>\n",
              "      <td>23.3</td>\n",
              "      <td>19.7</td>\n",
              "      <td>46.4</td>\n",
              "      <td>20.3</td>\n",
              "      <td>119.0</td>\n",
              "      <td>40.0</td>\n",
              "      <td>1.053</td>\n",
              "      <td>18.23</td>\n",
              "    </tr>\n",
              "    <tr>\n",
              "      <th>4</th>\n",
              "      <td>5</td>\n",
              "      <td>Low As</td>\n",
              "      <td>BR06</td>\n",
              "      <td>2</td>\n",
              "      <td>115.3</td>\n",
              "      <td>16.7</td>\n",
              "      <td>12.3</td>\n",
              "      <td>19.9</td>\n",
              "      <td>32.3</td>\n",
              "      <td>120.0</td>\n",
              "      <td>28.2</td>\n",
              "      <td>1.130</td>\n",
              "      <td>13.72</td>\n",
              "    </tr>\n",
              "  </tbody>\n",
              "</table>\n",
              "</div>\n",
              "      <button class=\"colab-df-convert\" onclick=\"convertToInteractive('df-4acc1dbe-8c44-43d4-82cd-aed4d94db2ee')\"\n",
              "              title=\"Convert this dataframe to an interactive table.\"\n",
              "              style=\"display:none;\">\n",
              "\n",
              "  <svg xmlns=\"http://www.w3.org/2000/svg\" height=\"24px\"viewBox=\"0 0 24 24\"\n",
              "       width=\"24px\">\n",
              "    <path d=\"M0 0h24v24H0V0z\" fill=\"none\"/>\n",
              "    <path d=\"M18.56 5.44l.94 2.06.94-2.06 2.06-.94-2.06-.94-.94-2.06-.94 2.06-2.06.94zm-11 1L8.5 8.5l.94-2.06 2.06-.94-2.06-.94L8.5 2.5l-.94 2.06-2.06.94zm10 10l.94 2.06.94-2.06 2.06-.94-2.06-.94-.94-2.06-.94 2.06-2.06.94z\"/><path d=\"M17.41 7.96l-1.37-1.37c-.4-.4-.92-.59-1.43-.59-.52 0-1.04.2-1.43.59L10.3 9.45l-7.72 7.72c-.78.78-.78 2.05 0 2.83L4 21.41c.39.39.9.59 1.41.59.51 0 1.02-.2 1.41-.59l7.78-7.78 2.81-2.81c.8-.78.8-2.07 0-2.86zM5.41 20L4 18.59l7.72-7.72 1.47 1.35L5.41 20z\"/>\n",
              "  </svg>\n",
              "      </button>\n",
              "\n",
              "\n",
              "\n",
              "    <div id=\"df-be95c08b-b3cc-45a2-badc-3efd42763cca\">\n",
              "      <button class=\"colab-df-quickchart\" onclick=\"quickchart('df-be95c08b-b3cc-45a2-badc-3efd42763cca')\"\n",
              "              title=\"Suggest charts.\"\n",
              "              style=\"display:none;\">\n",
              "\n",
              "<svg xmlns=\"http://www.w3.org/2000/svg\" height=\"24px\"viewBox=\"0 0 24 24\"\n",
              "     width=\"24px\">\n",
              "    <g>\n",
              "        <path d=\"M19 3H5c-1.1 0-2 .9-2 2v14c0 1.1.9 2 2 2h14c1.1 0 2-.9 2-2V5c0-1.1-.9-2-2-2zM9 17H7v-7h2v7zm4 0h-2V7h2v10zm4 0h-2v-4h2v4z\"/>\n",
              "    </g>\n",
              "</svg>\n",
              "      </button>\n",
              "    </div>\n",
              "\n",
              "<style>\n",
              "  .colab-df-quickchart {\n",
              "    background-color: #E8F0FE;\n",
              "    border: none;\n",
              "    border-radius: 50%;\n",
              "    cursor: pointer;\n",
              "    display: none;\n",
              "    fill: #1967D2;\n",
              "    height: 32px;\n",
              "    padding: 0 0 0 0;\n",
              "    width: 32px;\n",
              "  }\n",
              "\n",
              "  .colab-df-quickchart:hover {\n",
              "    background-color: #E2EBFA;\n",
              "    box-shadow: 0px 1px 2px rgba(60, 64, 67, 0.3), 0px 1px 3px 1px rgba(60, 64, 67, 0.15);\n",
              "    fill: #174EA6;\n",
              "  }\n",
              "\n",
              "  [theme=dark] .colab-df-quickchart {\n",
              "    background-color: #3B4455;\n",
              "    fill: #D2E3FC;\n",
              "  }\n",
              "\n",
              "  [theme=dark] .colab-df-quickchart:hover {\n",
              "    background-color: #434B5C;\n",
              "    box-shadow: 0px 1px 3px 1px rgba(0, 0, 0, 0.15);\n",
              "    filter: drop-shadow(0px 1px 2px rgba(0, 0, 0, 0.3));\n",
              "    fill: #FFFFFF;\n",
              "  }\n",
              "</style>\n",
              "\n",
              "    <script>\n",
              "      async function quickchart(key) {\n",
              "        const containerElement = document.querySelector('#' + key);\n",
              "        const charts = await google.colab.kernel.invokeFunction(\n",
              "            'suggestCharts', [key], {});\n",
              "      }\n",
              "    </script>\n",
              "\n",
              "      <script>\n",
              "\n",
              "function displayQuickchartButton(domScope) {\n",
              "  let quickchartButtonEl =\n",
              "    domScope.querySelector('#df-be95c08b-b3cc-45a2-badc-3efd42763cca button.colab-df-quickchart');\n",
              "  quickchartButtonEl.style.display =\n",
              "    google.colab.kernel.accessAllowed ? 'block' : 'none';\n",
              "}\n",
              "\n",
              "        displayQuickchartButton(document);\n",
              "      </script>\n",
              "      <style>\n",
              "    .colab-df-container {\n",
              "      display:flex;\n",
              "      flex-wrap:wrap;\n",
              "      gap: 12px;\n",
              "    }\n",
              "\n",
              "    .colab-df-convert {\n",
              "      background-color: #E8F0FE;\n",
              "      border: none;\n",
              "      border-radius: 50%;\n",
              "      cursor: pointer;\n",
              "      display: none;\n",
              "      fill: #1967D2;\n",
              "      height: 32px;\n",
              "      padding: 0 0 0 0;\n",
              "      width: 32px;\n",
              "    }\n",
              "\n",
              "    .colab-df-convert:hover {\n",
              "      background-color: #E2EBFA;\n",
              "      box-shadow: 0px 1px 2px rgba(60, 64, 67, 0.3), 0px 1px 3px 1px rgba(60, 64, 67, 0.15);\n",
              "      fill: #174EA6;\n",
              "    }\n",
              "\n",
              "    [theme=dark] .colab-df-convert {\n",
              "      background-color: #3B4455;\n",
              "      fill: #D2E3FC;\n",
              "    }\n",
              "\n",
              "    [theme=dark] .colab-df-convert:hover {\n",
              "      background-color: #434B5C;\n",
              "      box-shadow: 0px 1px 3px 1px rgba(0, 0, 0, 0.15);\n",
              "      filter: drop-shadow(0px 1px 2px rgba(0, 0, 0, 0.3));\n",
              "      fill: #FFFFFF;\n",
              "    }\n",
              "  </style>\n",
              "\n",
              "      <script>\n",
              "        const buttonEl =\n",
              "          document.querySelector('#df-4acc1dbe-8c44-43d4-82cd-aed4d94db2ee button.colab-df-convert');\n",
              "        buttonEl.style.display =\n",
              "          google.colab.kernel.accessAllowed ? 'block' : 'none';\n",
              "\n",
              "        async function convertToInteractive(key) {\n",
              "          const element = document.querySelector('#df-4acc1dbe-8c44-43d4-82cd-aed4d94db2ee');\n",
              "          const dataTable =\n",
              "            await google.colab.kernel.invokeFunction('convertToInteractive',\n",
              "                                                     [key], {});\n",
              "          if (!dataTable) return;\n",
              "\n",
              "          const docLinkHtml = 'Like what you see? Visit the ' +\n",
              "            '<a target=\"_blank\" href=https://colab.research.google.com/notebooks/data_table.ipynb>data table notebook</a>'\n",
              "            + ' to learn more about interactive tables.';\n",
              "          element.innerHTML = '';\n",
              "          dataTable['output_type'] = 'display_data';\n",
              "          await google.colab.output.renderOutput(dataTable, element);\n",
              "          const docLink = document.createElement('div');\n",
              "          docLink.innerHTML = docLinkHtml;\n",
              "          element.appendChild(docLink);\n",
              "        }\n",
              "      </script>\n",
              "    </div>\n",
              "  </div>\n"
            ]
          },
          "metadata": {},
          "execution_count": 34
        }
      ]
    },
    {
      "cell_type": "markdown",
      "source": [
        "###Reading files via upload:"
      ],
      "metadata": {
        "id": "ZK_XIB3srjUT"
      }
    },
    {
      "cell_type": "code",
      "source": [
        "# Reading CSV from uploaded file\n",
        "from google.colab import files\n",
        "uploaded = files.upload()  # Upload the CSV file using the file upload widget\n",
        "\n",
        "df_uploaded_csv = pd.read_csv(next(iter(uploaded)))"
      ],
      "metadata": {
        "id": "37TojDDrSwyR"
      },
      "execution_count": null,
      "outputs": []
    },
    {
      "cell_type": "code",
      "source": [
        "# Now you can work with df_uploaded_csv\n",
        "df_uploaded_csv.head()"
      ],
      "metadata": {
        "id": "zTETROqzr_zc"
      },
      "execution_count": null,
      "outputs": []
    },
    {
      "cell_type": "code",
      "source": [
        "column_names = test_data_csv.columns.tolist()\n",
        "\n",
        "print(column_names)"
      ],
      "metadata": {
        "colab": {
          "base_uri": "https://localhost:8080/"
        },
        "id": "Cawl8EvFTNJ_",
        "outputId": "d29a34a8-28ac-4708-83bf-c8148990df5a"
      },
      "execution_count": 35,
      "outputs": [
        {
          "output_type": "stream",
          "name": "stdout",
          "text": [
            "['ID', 'treat', 'var', 'rep', 'PH', 'TN', 'PN', 'GW', 'ster', 'DTM', 'SW', 'GAs', 'STAs']\n"
          ]
        }
      ]
    },
    {
      "cell_type": "markdown",
      "source": [
        "### Reading JSON Files:\n",
        "You can use the pandas library to read JSON files into a DataFrame."
      ],
      "metadata": {
        "id": "8p4R_PMq9Cod"
      }
    },
    {
      "cell_type": "code",
      "source": [
        "test_data_json = pd.read_json(data_folder + \"test_data.json\")\n",
        "# Get summary of the dataframe with .info()\n",
        "test_data_json.info()"
      ],
      "metadata": {
        "colab": {
          "base_uri": "https://localhost:8080/"
        },
        "id": "ULOtaTNX9clh",
        "outputId": "5cfad0d9-e3c8-4d9f-b3b0-f494cfc50f78"
      },
      "execution_count": 46,
      "outputs": [
        {
          "output_type": "stream",
          "name": "stdout",
          "text": [
            "<class 'pandas.core.frame.DataFrame'>\n",
            "RangeIndex: 42 entries, 0 to 41\n",
            "Data columns (total 13 columns):\n",
            " #   Column  Non-Null Count  Dtype  \n",
            "---  ------  --------------  -----  \n",
            " 0   ID      42 non-null     int64  \n",
            " 1   treat   42 non-null     object \n",
            " 2   var     42 non-null     object \n",
            " 3   rep     42 non-null     int64  \n",
            " 4   PH      42 non-null     float64\n",
            " 5   TN      42 non-null     float64\n",
            " 6   PN      42 non-null     float64\n",
            " 7   GW      42 non-null     float64\n",
            " 8   ster    42 non-null     float64\n",
            " 9   DTM     42 non-null     float64\n",
            " 10  SW      42 non-null     float64\n",
            " 11  GAs     42 non-null     float64\n",
            " 12  STAs    42 non-null     float64\n",
            "dtypes: float64(9), int64(2), object(2)\n",
            "memory usage: 4.4+ KB\n"
          ]
        }
      ]
    },
    {
      "cell_type": "markdown",
      "source": [
        "### Read Stata Data Files (.dta):\n",
        "To read .dta files in Python, you can use the pandas library, which provides support for reading Stata data files. Stata data files have the .dta extension and are commonly used in econometrics and statistics. Here's how you can read a Stata data file using pandas:"
      ],
      "metadata": {
        "id": "iJwLoJAB_sAc"
      }
    },
    {
      "cell_type": "code",
      "source": [
        "test_data_dta = pd.read_stata(data_folder + \"test_data.dta\")\n",
        "# Get summary of the dataframe with .info()\n",
        "print(test_data_dta)"
      ],
      "metadata": {
        "colab": {
          "base_uri": "https://localhost:8080/",
          "height": 390
        },
        "id": "YjUcGHBZ_sOc",
        "outputId": "433fc8c6-05c5-4c7d-facb-869df55b3177"
      },
      "execution_count": 8,
      "outputs": [
        {
          "output_type": "error",
          "ename": "ValueError",
          "evalue": "ignored",
          "traceback": [
            "\u001b[0;31m---------------------------------------------------------------------------\u001b[0m",
            "\u001b[0;31mValueError\u001b[0m                                Traceback (most recent call last)",
            "\u001b[0;32m<ipython-input-8-21ec267c2bcf>\u001b[0m in \u001b[0;36m<cell line: 1>\u001b[0;34m()\u001b[0m\n\u001b[0;32m----> 1\u001b[0;31m \u001b[0mtest_data_dta\u001b[0m \u001b[0;34m=\u001b[0m \u001b[0mpd\u001b[0m\u001b[0;34m.\u001b[0m\u001b[0mread_stata\u001b[0m\u001b[0;34m(\u001b[0m\u001b[0mdata_folder\u001b[0m \u001b[0;34m+\u001b[0m \u001b[0;34m\"test_data.dta\"\u001b[0m\u001b[0;34m)\u001b[0m\u001b[0;34m\u001b[0m\u001b[0;34m\u001b[0m\u001b[0m\n\u001b[0m\u001b[1;32m      2\u001b[0m \u001b[0;31m# Get summary of the dataframe with .info()\u001b[0m\u001b[0;34m\u001b[0m\u001b[0;34m\u001b[0m\u001b[0m\n\u001b[1;32m      3\u001b[0m \u001b[0mprint\u001b[0m\u001b[0;34m(\u001b[0m\u001b[0mtest_data_dta\u001b[0m\u001b[0;34m)\u001b[0m\u001b[0;34m\u001b[0m\u001b[0;34m\u001b[0m\u001b[0m\n",
            "\u001b[0;32m/usr/local/lib/python3.10/dist-packages/pandas/util/_decorators.py\u001b[0m in \u001b[0;36mwrapper\u001b[0;34m(*args, **kwargs)\u001b[0m\n\u001b[1;32m    329\u001b[0m                     \u001b[0mstacklevel\u001b[0m\u001b[0;34m=\u001b[0m\u001b[0mfind_stack_level\u001b[0m\u001b[0;34m(\u001b[0m\u001b[0;34m)\u001b[0m\u001b[0;34m,\u001b[0m\u001b[0;34m\u001b[0m\u001b[0;34m\u001b[0m\u001b[0m\n\u001b[1;32m    330\u001b[0m                 )\n\u001b[0;32m--> 331\u001b[0;31m             \u001b[0;32mreturn\u001b[0m \u001b[0mfunc\u001b[0m\u001b[0;34m(\u001b[0m\u001b[0;34m*\u001b[0m\u001b[0margs\u001b[0m\u001b[0;34m,\u001b[0m \u001b[0;34m**\u001b[0m\u001b[0mkwargs\u001b[0m\u001b[0;34m)\u001b[0m\u001b[0;34m\u001b[0m\u001b[0;34m\u001b[0m\u001b[0m\n\u001b[0m\u001b[1;32m    332\u001b[0m \u001b[0;34m\u001b[0m\u001b[0m\n\u001b[1;32m    333\u001b[0m         \u001b[0;31m# error: \"Callable[[VarArg(Any), KwArg(Any)], Any]\" has no\u001b[0m\u001b[0;34m\u001b[0m\u001b[0;34m\u001b[0m\u001b[0m\n",
            "\u001b[0;32m/usr/local/lib/python3.10/dist-packages/pandas/io/stata.py\u001b[0m in \u001b[0;36mread_stata\u001b[0;34m(filepath_or_buffer, convert_dates, convert_categoricals, index_col, convert_missing, preserve_dtypes, columns, order_categoricals, chunksize, iterator, compression, storage_options)\u001b[0m\n\u001b[1;32m   2018\u001b[0m ) -> DataFrame | StataReader:\n\u001b[1;32m   2019\u001b[0m \u001b[0;34m\u001b[0m\u001b[0m\n\u001b[0;32m-> 2020\u001b[0;31m     reader = StataReader(\n\u001b[0m\u001b[1;32m   2021\u001b[0m         \u001b[0mfilepath_or_buffer\u001b[0m\u001b[0;34m,\u001b[0m\u001b[0;34m\u001b[0m\u001b[0;34m\u001b[0m\u001b[0m\n\u001b[1;32m   2022\u001b[0m         \u001b[0mconvert_dates\u001b[0m\u001b[0;34m=\u001b[0m\u001b[0mconvert_dates\u001b[0m\u001b[0;34m,\u001b[0m\u001b[0;34m\u001b[0m\u001b[0;34m\u001b[0m\u001b[0m\n",
            "\u001b[0;32m/usr/local/lib/python3.10/dist-packages/pandas/io/stata.py\u001b[0m in \u001b[0;36m__init__\u001b[0;34m(self, path_or_buf, convert_dates, convert_categoricals, index_col, convert_missing, preserve_dtypes, columns, order_categoricals, chunksize, compression, storage_options)\u001b[0m\n\u001b[1;32m   1171\u001b[0m             \u001b[0mself\u001b[0m\u001b[0;34m.\u001b[0m\u001b[0mpath_or_buf\u001b[0m \u001b[0;34m=\u001b[0m \u001b[0mBytesIO\u001b[0m\u001b[0;34m(\u001b[0m\u001b[0mhandles\u001b[0m\u001b[0;34m.\u001b[0m\u001b[0mhandle\u001b[0m\u001b[0;34m.\u001b[0m\u001b[0mread\u001b[0m\u001b[0;34m(\u001b[0m\u001b[0;34m)\u001b[0m\u001b[0;34m)\u001b[0m\u001b[0;34m\u001b[0m\u001b[0;34m\u001b[0m\u001b[0m\n\u001b[1;32m   1172\u001b[0m \u001b[0;34m\u001b[0m\u001b[0m\n\u001b[0;32m-> 1173\u001b[0;31m         \u001b[0mself\u001b[0m\u001b[0;34m.\u001b[0m\u001b[0m_read_header\u001b[0m\u001b[0;34m(\u001b[0m\u001b[0;34m)\u001b[0m\u001b[0;34m\u001b[0m\u001b[0;34m\u001b[0m\u001b[0m\n\u001b[0m\u001b[1;32m   1174\u001b[0m         \u001b[0mself\u001b[0m\u001b[0;34m.\u001b[0m\u001b[0m_setup_dtype\u001b[0m\u001b[0;34m(\u001b[0m\u001b[0;34m)\u001b[0m\u001b[0;34m\u001b[0m\u001b[0;34m\u001b[0m\u001b[0m\n\u001b[1;32m   1175\u001b[0m \u001b[0;34m\u001b[0m\u001b[0m\n",
            "\u001b[0;32m/usr/local/lib/python3.10/dist-packages/pandas/io/stata.py\u001b[0m in \u001b[0;36m_read_header\u001b[0;34m(self)\u001b[0m\n\u001b[1;32m   1200\u001b[0m             \u001b[0mself\u001b[0m\u001b[0;34m.\u001b[0m\u001b[0m_read_new_header\u001b[0m\u001b[0;34m(\u001b[0m\u001b[0;34m)\u001b[0m\u001b[0;34m\u001b[0m\u001b[0;34m\u001b[0m\u001b[0m\n\u001b[1;32m   1201\u001b[0m         \u001b[0;32melse\u001b[0m\u001b[0;34m:\u001b[0m\u001b[0;34m\u001b[0m\u001b[0;34m\u001b[0m\u001b[0m\n\u001b[0;32m-> 1202\u001b[0;31m             \u001b[0mself\u001b[0m\u001b[0;34m.\u001b[0m\u001b[0m_read_old_header\u001b[0m\u001b[0;34m(\u001b[0m\u001b[0mfirst_char\u001b[0m\u001b[0;34m)\u001b[0m\u001b[0;34m\u001b[0m\u001b[0;34m\u001b[0m\u001b[0m\n\u001b[0m\u001b[1;32m   1203\u001b[0m \u001b[0;34m\u001b[0m\u001b[0m\n\u001b[1;32m   1204\u001b[0m         \u001b[0mself\u001b[0m\u001b[0;34m.\u001b[0m\u001b[0mhas_string_data\u001b[0m \u001b[0;34m=\u001b[0m \u001b[0mlen\u001b[0m\u001b[0;34m(\u001b[0m\u001b[0;34m[\u001b[0m\u001b[0mx\u001b[0m \u001b[0;32mfor\u001b[0m \u001b[0mx\u001b[0m \u001b[0;32min\u001b[0m \u001b[0mself\u001b[0m\u001b[0;34m.\u001b[0m\u001b[0mtyplist\u001b[0m \u001b[0;32mif\u001b[0m \u001b[0mtype\u001b[0m\u001b[0;34m(\u001b[0m\u001b[0mx\u001b[0m\u001b[0;34m)\u001b[0m \u001b[0;32mis\u001b[0m \u001b[0mint\u001b[0m\u001b[0;34m]\u001b[0m\u001b[0;34m)\u001b[0m \u001b[0;34m>\u001b[0m \u001b[0;36m0\u001b[0m\u001b[0;34m\u001b[0m\u001b[0;34m\u001b[0m\u001b[0m\n",
            "\u001b[0;32m/usr/local/lib/python3.10/dist-packages/pandas/io/stata.py\u001b[0m in \u001b[0;36m_read_old_header\u001b[0;34m(self, first_char)\u001b[0m\n\u001b[1;32m   1404\u001b[0m         \u001b[0mself\u001b[0m\u001b[0;34m.\u001b[0m\u001b[0mformat_version\u001b[0m \u001b[0;34m=\u001b[0m \u001b[0mstruct\u001b[0m\u001b[0;34m.\u001b[0m\u001b[0munpack\u001b[0m\u001b[0;34m(\u001b[0m\u001b[0;34m\"b\"\u001b[0m\u001b[0;34m,\u001b[0m \u001b[0mfirst_char\u001b[0m\u001b[0;34m)\u001b[0m\u001b[0;34m[\u001b[0m\u001b[0;36m0\u001b[0m\u001b[0;34m]\u001b[0m\u001b[0;34m\u001b[0m\u001b[0;34m\u001b[0m\u001b[0m\n\u001b[1;32m   1405\u001b[0m         \u001b[0;32mif\u001b[0m \u001b[0mself\u001b[0m\u001b[0;34m.\u001b[0m\u001b[0mformat_version\u001b[0m \u001b[0;32mnot\u001b[0m \u001b[0;32min\u001b[0m \u001b[0;34m[\u001b[0m\u001b[0;36m104\u001b[0m\u001b[0;34m,\u001b[0m \u001b[0;36m105\u001b[0m\u001b[0;34m,\u001b[0m \u001b[0;36m108\u001b[0m\u001b[0;34m,\u001b[0m \u001b[0;36m111\u001b[0m\u001b[0;34m,\u001b[0m \u001b[0;36m113\u001b[0m\u001b[0;34m,\u001b[0m \u001b[0;36m114\u001b[0m\u001b[0;34m,\u001b[0m \u001b[0;36m115\u001b[0m\u001b[0;34m]\u001b[0m\u001b[0;34m:\u001b[0m\u001b[0;34m\u001b[0m\u001b[0;34m\u001b[0m\u001b[0m\n\u001b[0;32m-> 1406\u001b[0;31m             \u001b[0;32mraise\u001b[0m \u001b[0mValueError\u001b[0m\u001b[0;34m(\u001b[0m\u001b[0m_version_error\u001b[0m\u001b[0;34m.\u001b[0m\u001b[0mformat\u001b[0m\u001b[0;34m(\u001b[0m\u001b[0mversion\u001b[0m\u001b[0;34m=\u001b[0m\u001b[0mself\u001b[0m\u001b[0;34m.\u001b[0m\u001b[0mformat_version\u001b[0m\u001b[0;34m)\u001b[0m\u001b[0;34m)\u001b[0m\u001b[0;34m\u001b[0m\u001b[0;34m\u001b[0m\u001b[0m\n\u001b[0m\u001b[1;32m   1407\u001b[0m         \u001b[0mself\u001b[0m\u001b[0;34m.\u001b[0m\u001b[0m_set_encoding\u001b[0m\u001b[0;34m(\u001b[0m\u001b[0;34m)\u001b[0m\u001b[0;34m\u001b[0m\u001b[0;34m\u001b[0m\u001b[0m\n\u001b[1;32m   1408\u001b[0m         self.byteorder = (\n",
            "\u001b[0;31mValueError\u001b[0m: Version of given Stata file is 110. pandas supports importing versions 105, 108, 111 (Stata 7SE), 113 (Stata 8/9), 114 (Stata 10/11), 115 (Stata 12), 117 (Stata 13), 118 (Stata 14/15/16),and 119 (Stata 15/16, over 32,767 variables)."
          ]
        }
      ]
    },
    {
      "cell_type": "markdown",
      "source": [
        "The provided Stata data file is of version 110, but pandas supports importing versions 105, 108, 111, 113, 114, 115, 117, 118, and 119. Since version 110 is not directly supported by pandas, you might face some compatibility issues when trying to read it using the pd.read_stata() function.\n",
        "\n",
        "There are some third-party libraries, like pyreadstat, which provide more comprehensive support for reading Stata files with various versions, including version 110."
      ],
      "metadata": {
        "id": "CoypkBp0AjcJ"
      }
    },
    {
      "cell_type": "code",
      "source": [
        "!pip install pyreadstat"
      ],
      "metadata": {
        "id": "O0d1J-TbBwq6"
      },
      "execution_count": null,
      "outputs": []
    },
    {
      "cell_type": "code",
      "source": [
        "import pyreadstat\n",
        "test_data_dta = pyreadstat.read_dta(data_folder_drive + \"test_data.dta\")\n",
        "# Get summary of the dataframe with .info()\n",
        "print(test_data_dta)"
      ],
      "metadata": {
        "colab": {
          "base_uri": "https://localhost:8080/"
        },
        "id": "NbHGdfmYfOAA",
        "outputId": "b78dd7a5-34ac-491d-c42d-b47f4e7026da"
      },
      "execution_count": 44,
      "outputs": [
        {
          "output_type": "stream",
          "name": "stdout",
          "text": [
            "(    ID    treat        var  rep     PH    TN    PN    GW  ster    DTM     SW  \\\n",
            "0    1   Low As       BR01    1   84.0  28.3  27.7  35.7  20.5  126.0   28.4   \n",
            "1    2   Low As       BR01    2  111.7  34.0  30.0  58.1  14.8  119.0   36.7   \n",
            "2    3   Low As       BR01    3  102.3  27.7  24.0  44.6   5.8  119.7   32.9   \n",
            "3    4   Low As       BR06    1  118.0  23.3  19.7  46.4  20.3  119.0   40.0   \n",
            "4    5   Low As       BR06    2  115.3  16.7  12.3  19.9  32.3  120.0   28.2   \n",
            "5    6   Low As       BR06    3  111.0  19.0  15.3  35.9  14.9  116.3   42.3   \n",
            "6    7   Low As       BR28    1  114.3  21.7  19.3  56.2   6.1  123.7   35.4   \n",
            "7    8   Low As       BR28    2  124.0  25.3  21.0  49.2   9.2  114.3   60.6   \n",
            "8    9   Low As       BR28    3  120.3  23.0  19.0  48.6   4.2  113.3   69.8   \n",
            "9   10   Low As       BR35    1  130.0  19.7  14.7  36.6  12.1  126.0   57.3   \n",
            "10  11   Low As       BR35    2  133.3  21.0  16.3  39.9  11.5  130.7   53.0   \n",
            "11  12   Low As       BR35    3  129.0  17.7  14.3  43.0   8.7  132.3   32.6   \n",
            "12  13   Low As       BR36    1  113.0  18.0  15.7  39.0  13.2  121.7   45.8   \n",
            "13  14   Low As       BR36    2  118.3  23.0  17.3  35.8  28.0  121.7   44.1   \n",
            "14  15   Low As       BR36    3  118.3  29.7  16.3  45.8   6.9  117.0  114.3   \n",
            "15  16   Low As  Jefferson    1   96.7   8.7   8.7  15.9  21.5  121.3   16.8   \n",
            "16  17   Low As  Jefferson    2   94.7   9.7   9.7  18.0  18.6  116.7   16.7   \n",
            "17  18   Low As  Jefferson    3   97.3  12.3  10.3  18.9  16.7  116.7   19.0   \n",
            "18  19   Low As  Kaybonnet    1  134.7  11.7   9.7  34.9   7.8  115.7   35.6   \n",
            "19  20   Low As  Kaybonnet    2  120.7  15.3   9.3  28.9   4.9  114.0   29.0   \n",
            "20  21   Low As  Kaybonnet    3  123.7  12.7   9.3  32.4  10.4  113.3   29.4   \n",
            "21  22  High As       BR01    1   73.0  32.0  21.0  21.8  22.5  132.3   30.3   \n",
            "22  23  High As       BR01    2   77.0  36.3  31.0  31.7  20.1  129.3   34.3   \n",
            "23  24  High As       BR01    3   71.7  24.3  20.7  21.8  20.2  134.3   17.6   \n",
            "24  25  High As       BR06    1   97.7  20.7  14.3  21.2  11.8  131.0   25.6   \n",
            "25  26  High As       BR06    2   90.3  21.3  18.3  18.9  34.4  133.7   24.6   \n",
            "26  27  High As       BR06    3   91.0  18.3  14.3  13.2  58.2  132.7   24.5   \n",
            "27  28  High As       BR28    1   97.0  19.7  15.0  17.0  13.5  128.3   21.2   \n",
            "28  29  High As       BR28    2   92.3  26.3  17.7  21.1  21.3  126.0   28.7   \n",
            "29  30  High As       BR28    3   91.3  24.3  18.3  23.6  27.8  128.7   16.7   \n",
            "30  31  High As       BR35    1   94.3  22.7  12.3  10.0  55.9  154.0   35.2   \n",
            "31  32  High As       BR35    2  102.7  26.3  17.7  18.2  46.6  152.3   41.2   \n",
            "32  33  High As       BR35    3   97.3  22.7  14.0  22.2  52.5  151.7   43.3   \n",
            "33  34  High As       BR36    1  101.3  19.7  14.0  16.8  24.4  133.0   34.2   \n",
            "34  35  High As       BR36    2   94.7  22.0  17.7  24.5  28.5  133.7   30.8   \n",
            "35  36  High As       BR36    3   93.7  19.7  15.3  17.6  49.5  134.3   31.2   \n",
            "36  37  High As  Jefferson    1   72.7  10.3   9.0  11.5  26.6  127.0   14.2   \n",
            "37  38  High As  Jefferson    2   72.3   9.7   8.3  14.1  18.2  128.7   11.6   \n",
            "38  39  High As  Jefferson    3   80.0  13.3  11.0  23.0  12.6  127.0   16.3   \n",
            "39  40  High As  Kaybonnet    1   96.7  14.3   7.7   5.4  57.2  131.7   18.2   \n",
            "40  41  High As  Kaybonnet    2  101.0  15.7   8.0   5.2  82.8  130.7   28.7   \n",
            "41  42  High As  Kaybonnet    3  105.3  13.7  10.0  15.0  54.7  128.7   28.5   \n",
            "\n",
            "      GAs   STAs  \n",
            "0   0.762  14.60  \n",
            "1   0.722  10.77  \n",
            "2   0.858  12.69  \n",
            "3   1.053  18.23  \n",
            "4   1.130  13.72  \n",
            "5   1.011  15.97  \n",
            "6   0.965  14.49  \n",
            "7   0.969  16.02  \n",
            "8   0.893  15.25  \n",
            "9   1.358  21.23  \n",
            "10  1.359  19.37  \n",
            "11  1.290  20.30  \n",
            "12  0.832  19.23  \n",
            "13  0.903  12.34  \n",
            "14  0.932  15.78  \n",
            "15  0.610  13.50  \n",
            "16  0.605   9.32  \n",
            "17  0.629  11.41  \n",
            "18  1.005  15.89  \n",
            "19  1.020   9.30  \n",
            "20  0.946  12.59  \n",
            "21  1.482  25.41  \n",
            "22  1.548  19.12  \n",
            "23  1.564  22.27  \n",
            "24  1.451  24.15  \n",
            "25  1.413  18.77  \n",
            "26  1.396  21.46  \n",
            "27  1.521  28.49  \n",
            "28  1.553  30.96  \n",
            "29  1.698  29.73  \n",
            "30  2.448  26.22  \n",
            "31  2.493  20.97  \n",
            "32  2.458  23.59  \n",
            "33  1.881  24.75  \n",
            "34  1.997  19.40  \n",
            "35  1.934  22.08  \n",
            "36  1.897  23.45  \n",
            "37  1.872  18.60  \n",
            "38  2.007  21.02  \n",
            "39  1.888  20.27  \n",
            "40  1.889  22.51  \n",
            "41  1.767  21.39  , <pyreadstat._readstat_parser.metadata_container object at 0x7e4bb72238e0>)\n"
          ]
        }
      ]
    },
    {
      "cell_type": "code",
      "source": [
        "import requests\n",
        "\n",
        "# Download the file using requests\n",
        "response = requests.get(data_folder + \"test_data.txt\")\n",
        "\n",
        "if response.status_code == 200:\n",
        "    # Extract the filename from the URL\n",
        "    filename = file_url.split(\"/\")[-1]\n",
        " # Save the content to a local file\n",
        "    with open(\"/content/\"+filename, \"wb\") as f:\n",
        "        f.write(response.content)\n",
        "    print(f\"File '{filename}' downloaded successfully.\")\n",
        "else:\n",
        "    print(\"Failed to download the file.\")"
      ],
      "metadata": {
        "colab": {
          "base_uri": "https://localhost:8080/"
        },
        "id": "CqzwzOy4Ajqg",
        "outputId": "2d9866a5-7e39-47ca-e413-7ec4d3c7c56f"
      },
      "execution_count": 41,
      "outputs": [
        {
          "output_type": "stream",
          "name": "stdout",
          "text": [
            "File 'test_data.txt' downloaded successfully.\n"
          ]
        }
      ]
    }
  ]
}