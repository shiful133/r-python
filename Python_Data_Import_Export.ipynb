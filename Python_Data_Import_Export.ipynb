{
  "nbformat": 4,
  "nbformat_minor": 0,
  "metadata": {
    "colab": {
      "provenance": [],
      "authorship_tag": "ABX9TyPFk1kliEV7D7pUbyH7Glt/",
      "include_colab_link": true
    },
    "kernelspec": {
      "name": "python3",
      "display_name": "Python 3"
    },
    "language_info": {
      "name": "python"
    }
  },
  "cells": [
    {
      "cell_type": "markdown",
      "metadata": {
        "id": "view-in-github",
        "colab_type": "text"
      },
      "source": [
        "<a href=\"https://colab.research.google.com/github/shiful133/r-python/blob/main/Python_Data_Import_Export.ipynb\" target=\"_parent\"><img src=\"https://colab.research.google.com/assets/colab-badge.svg\" alt=\"Open In Colab\"/></a>"
      ]
    },
    {
      "cell_type": "markdown",
      "source": [
        "#**Data Import-Export in Python**\n",
        "Importing and exporting data in Google Colab, which is a popular platform for working with Python notebooks, involves using various libraries and methods to handle different file formats. Here's a brief guide on how to perform data import and export in Python Colab:\n",
        "\n"
      ],
      "metadata": {
        "id": "wwDBYDPkz7_h"
      }
    },
    {
      "cell_type": "markdown",
      "source": [
        "## Working Directory\n",
        "In Google Colab, the working directory is set to the root directory by default. This root directory contains the Colab notebooks, and you can access files from your Google Drive as well. However, if you want to navigate and work within a specific directory, you can use the %cd magic command to change the current directory. Here's how you can get and change the working directory in Google Colab:"
      ],
      "metadata": {
        "id": "b_PuzqBO6MbJ"
      }
    },
    {
      "cell_type": "markdown",
      "source": [
        "### Get Current Working Directory:"
      ],
      "metadata": {
        "id": "eVrTNnSL6jMV"
      }
    },
    {
      "cell_type": "code",
      "source": [
        "import os\n",
        "\n",
        "# Get current working directory\n",
        "current_directory = os.getcwd()\n",
        "print(\"Current Directory:\", current_directory)"
      ],
      "metadata": {
        "id": "3t-ijkkE6LLs"
      },
      "execution_count": null,
      "outputs": []
    },
    {
      "cell_type": "markdown",
      "source": [
        "### Mounting Google Drive:\n",
        "If you want to access files from your Google Drive or change working directory to a folder in Google Drive, you'll need to mount your Google Drive using the drive.mount() function."
      ],
      "metadata": {
        "id": "fa1o4r_R65Yd"
      }
    },
    {
      "cell_type": "code",
      "execution_count": 2,
      "metadata": {
        "id": "i500RtLmxHa-",
        "colab": {
          "base_uri": "https://localhost:8080/"
        },
        "outputId": "7a9a828c-2eb6-4096-87d5-1f2d417c50f3"
      },
      "outputs": [
        {
          "output_type": "stream",
          "name": "stdout",
          "text": [
            "Mounted at /content/drive\n"
          ]
        }
      ],
      "source": [
        "from google.colab import drive\n",
        "\n",
        "drive.mount('/content/drive')  # Mount Google Drive"
      ]
    },
    {
      "cell_type": "markdown",
      "source": [
        "###Change Working Directory:"
      ],
      "metadata": {
        "id": "mLRRTpwA8OaD"
      }
    },
    {
      "cell_type": "code",
      "source": [
        "# Change working directory\n",
        "new_directory = '/content/drive/MyDrive/Python'  # Replace with your desired directory path\n",
        "%cd \"$new_directory\"\n"
      ],
      "metadata": {
        "id": "zalYVp4s8OyJ",
        "outputId": "d67d082a-f10b-4ebc-f24c-fc997ab44787",
        "colab": {
          "base_uri": "https://localhost:8080/"
        }
      },
      "execution_count": 3,
      "outputs": [
        {
          "output_type": "stream",
          "name": "stdout",
          "text": [
            "/content/drive/MyDrive/Python\n"
          ]
        }
      ]
    },
    {
      "cell_type": "markdown",
      "source": [
        "### Check Files in the Directory:"
      ],
      "metadata": {
        "id": "D-d9RMKNSmQI"
      }
    },
    {
      "cell_type": "code",
      "source": [
        "# check files in any directory\n",
        "os.listdir('/content/drive/MyDrive/Python')\n",
        "# or just os.listdir() for current working directory"
      ],
      "metadata": {
        "id": "bZC_eQsQHdsk"
      },
      "execution_count": null,
      "outputs": []
    },
    {
      "cell_type": "markdown",
      "source": [
        "##Read/Import Data into Python:"
      ],
      "metadata": {
        "id": "dFWS21HibMiG"
      }
    },
    {
      "cell_type": "markdown",
      "source": [
        "### 1. Reading CSV Files:\n",
        "\n",
        "You can use the `pandas` library to read CSV files in Colab. If the file is hosted online, you can directly provide the URL. If the file is uploaded to Colab, you can use the file upload widget."
      ],
      "metadata": {
        "id": "_WqysIeIRKzb"
      }
    },
    {
      "cell_type": "code",
      "source": [
        "import pandas as pd"
      ],
      "metadata": {
        "id": "5EIQZzffNXVx"
      },
      "execution_count": 5,
      "outputs": []
    },
    {
      "cell_type": "code",
      "source": [
        "data_folder = \"https://github.com/shiful133/data/raw/main/soil_data/\"\n",
        "\n",
        "test_data_csv = pd.read_csv(data_folder + \"test_data.csv\")\n",
        "test_data_csv.head()"
      ],
      "metadata": {
        "id": "kmfyoH9TbT5A"
      },
      "execution_count": null,
      "outputs": []
    },
    {
      "cell_type": "markdown",
      "source": [
        "### 2. Reading XLSX Files:\n",
        "\n",
        "You can also use the pandas library to read XLSX files."
      ],
      "metadata": {
        "id": "rC3-HVXbR1BV"
      }
    },
    {
      "cell_type": "code",
      "source": [
        "test_data_xlsx = pd.read_excel(data_folder + \"test_data.xlsx\") # data_folder variable defined in previous code block\n",
        "test_data_xlsx.head()"
      ],
      "metadata": {
        "id": "0X9lSgfZR4G8"
      },
      "execution_count": null,
      "outputs": []
    },
    {
      "cell_type": "markdown",
      "source": [
        "###3. Reading TXT Files:\n",
        "You can use pandas to read TXT files. Reading tab separated, or comma separated txt file is very similar to reading CSV files. Since tab-separated values are essentially a form of delimited text, you can use the read_csv() function of pandas and specify the delimiter as a tab character."
      ],
      "metadata": {
        "id": "kInpXmV4UeTy"
      }
    },
    {
      "cell_type": "code",
      "source": [
        "test_data_txt = pd.read_csv(data_folder + \"test_data.txt\", delimiter='\\t') # data_folder variable defined in previous code block\n",
        "test_data_txt.head()"
      ],
      "metadata": {
        "colab": {
          "base_uri": "https://localhost:8080/",
          "height": 206
        },
        "id": "Q4wQxpzLUdiD",
        "outputId": "014b00f3-4a50-44c9-f1dd-947d60e1fe7e"
      },
      "execution_count": 27,
      "outputs": [
        {
          "output_type": "execute_result",
          "data": {
            "text/plain": [
              "   ID   treat   var  rep     PH    TN    PN    GW  ster    DTM    SW    GAs  \\\n",
              "0   1  Low As  BR01    1   84.0  28.3  27.7  35.7  20.5  126.0  28.4  0.762   \n",
              "1   2  Low As  BR01    2  111.7  34.0  30.0  58.1  14.8  119.0  36.7  0.722   \n",
              "2   3  Low As  BR01    3  102.3  27.7  24.0  44.6   5.8  119.7  32.9  0.858   \n",
              "3   4  Low As  BR06    1  118.0  23.3  19.7  46.4  20.3  119.0  40.0  1.053   \n",
              "4   5  Low As  BR06    2  115.3  16.7  12.3  19.9  32.3  120.0  28.2  1.130   \n",
              "\n",
              "    STAs  \n",
              "0  14.60  \n",
              "1  10.77  \n",
              "2  12.69  \n",
              "3  18.23  \n",
              "4  13.72  "
            ],
            "text/html": [
              "\n",
              "\n",
              "  <div id=\"df-e76f835f-dbf7-418e-b7a0-23d69af9d05f\">\n",
              "    <div class=\"colab-df-container\">\n",
              "      <div>\n",
              "<style scoped>\n",
              "    .dataframe tbody tr th:only-of-type {\n",
              "        vertical-align: middle;\n",
              "    }\n",
              "\n",
              "    .dataframe tbody tr th {\n",
              "        vertical-align: top;\n",
              "    }\n",
              "\n",
              "    .dataframe thead th {\n",
              "        text-align: right;\n",
              "    }\n",
              "</style>\n",
              "<table border=\"1\" class=\"dataframe\">\n",
              "  <thead>\n",
              "    <tr style=\"text-align: right;\">\n",
              "      <th></th>\n",
              "      <th>ID</th>\n",
              "      <th>treat</th>\n",
              "      <th>var</th>\n",
              "      <th>rep</th>\n",
              "      <th>PH</th>\n",
              "      <th>TN</th>\n",
              "      <th>PN</th>\n",
              "      <th>GW</th>\n",
              "      <th>ster</th>\n",
              "      <th>DTM</th>\n",
              "      <th>SW</th>\n",
              "      <th>GAs</th>\n",
              "      <th>STAs</th>\n",
              "    </tr>\n",
              "  </thead>\n",
              "  <tbody>\n",
              "    <tr>\n",
              "      <th>0</th>\n",
              "      <td>1</td>\n",
              "      <td>Low As</td>\n",
              "      <td>BR01</td>\n",
              "      <td>1</td>\n",
              "      <td>84.0</td>\n",
              "      <td>28.3</td>\n",
              "      <td>27.7</td>\n",
              "      <td>35.7</td>\n",
              "      <td>20.5</td>\n",
              "      <td>126.0</td>\n",
              "      <td>28.4</td>\n",
              "      <td>0.762</td>\n",
              "      <td>14.60</td>\n",
              "    </tr>\n",
              "    <tr>\n",
              "      <th>1</th>\n",
              "      <td>2</td>\n",
              "      <td>Low As</td>\n",
              "      <td>BR01</td>\n",
              "      <td>2</td>\n",
              "      <td>111.7</td>\n",
              "      <td>34.0</td>\n",
              "      <td>30.0</td>\n",
              "      <td>58.1</td>\n",
              "      <td>14.8</td>\n",
              "      <td>119.0</td>\n",
              "      <td>36.7</td>\n",
              "      <td>0.722</td>\n",
              "      <td>10.77</td>\n",
              "    </tr>\n",
              "    <tr>\n",
              "      <th>2</th>\n",
              "      <td>3</td>\n",
              "      <td>Low As</td>\n",
              "      <td>BR01</td>\n",
              "      <td>3</td>\n",
              "      <td>102.3</td>\n",
              "      <td>27.7</td>\n",
              "      <td>24.0</td>\n",
              "      <td>44.6</td>\n",
              "      <td>5.8</td>\n",
              "      <td>119.7</td>\n",
              "      <td>32.9</td>\n",
              "      <td>0.858</td>\n",
              "      <td>12.69</td>\n",
              "    </tr>\n",
              "    <tr>\n",
              "      <th>3</th>\n",
              "      <td>4</td>\n",
              "      <td>Low As</td>\n",
              "      <td>BR06</td>\n",
              "      <td>1</td>\n",
              "      <td>118.0</td>\n",
              "      <td>23.3</td>\n",
              "      <td>19.7</td>\n",
              "      <td>46.4</td>\n",
              "      <td>20.3</td>\n",
              "      <td>119.0</td>\n",
              "      <td>40.0</td>\n",
              "      <td>1.053</td>\n",
              "      <td>18.23</td>\n",
              "    </tr>\n",
              "    <tr>\n",
              "      <th>4</th>\n",
              "      <td>5</td>\n",
              "      <td>Low As</td>\n",
              "      <td>BR06</td>\n",
              "      <td>2</td>\n",
              "      <td>115.3</td>\n",
              "      <td>16.7</td>\n",
              "      <td>12.3</td>\n",
              "      <td>19.9</td>\n",
              "      <td>32.3</td>\n",
              "      <td>120.0</td>\n",
              "      <td>28.2</td>\n",
              "      <td>1.130</td>\n",
              "      <td>13.72</td>\n",
              "    </tr>\n",
              "  </tbody>\n",
              "</table>\n",
              "</div>\n",
              "      <button class=\"colab-df-convert\" onclick=\"convertToInteractive('df-e76f835f-dbf7-418e-b7a0-23d69af9d05f')\"\n",
              "              title=\"Convert this dataframe to an interactive table.\"\n",
              "              style=\"display:none;\">\n",
              "\n",
              "  <svg xmlns=\"http://www.w3.org/2000/svg\" height=\"24px\"viewBox=\"0 0 24 24\"\n",
              "       width=\"24px\">\n",
              "    <path d=\"M0 0h24v24H0V0z\" fill=\"none\"/>\n",
              "    <path d=\"M18.56 5.44l.94 2.06.94-2.06 2.06-.94-2.06-.94-.94-2.06-.94 2.06-2.06.94zm-11 1L8.5 8.5l.94-2.06 2.06-.94-2.06-.94L8.5 2.5l-.94 2.06-2.06.94zm10 10l.94 2.06.94-2.06 2.06-.94-2.06-.94-.94-2.06-.94 2.06-2.06.94z\"/><path d=\"M17.41 7.96l-1.37-1.37c-.4-.4-.92-.59-1.43-.59-.52 0-1.04.2-1.43.59L10.3 9.45l-7.72 7.72c-.78.78-.78 2.05 0 2.83L4 21.41c.39.39.9.59 1.41.59.51 0 1.02-.2 1.41-.59l7.78-7.78 2.81-2.81c.8-.78.8-2.07 0-2.86zM5.41 20L4 18.59l7.72-7.72 1.47 1.35L5.41 20z\"/>\n",
              "  </svg>\n",
              "      </button>\n",
              "\n",
              "\n",
              "\n",
              "    <div id=\"df-9dad5c32-d9ab-42e0-98c7-c2caacdac3a9\">\n",
              "      <button class=\"colab-df-quickchart\" onclick=\"quickchart('df-9dad5c32-d9ab-42e0-98c7-c2caacdac3a9')\"\n",
              "              title=\"Suggest charts.\"\n",
              "              style=\"display:none;\">\n",
              "\n",
              "<svg xmlns=\"http://www.w3.org/2000/svg\" height=\"24px\"viewBox=\"0 0 24 24\"\n",
              "     width=\"24px\">\n",
              "    <g>\n",
              "        <path d=\"M19 3H5c-1.1 0-2 .9-2 2v14c0 1.1.9 2 2 2h14c1.1 0 2-.9 2-2V5c0-1.1-.9-2-2-2zM9 17H7v-7h2v7zm4 0h-2V7h2v10zm4 0h-2v-4h2v4z\"/>\n",
              "    </g>\n",
              "</svg>\n",
              "      </button>\n",
              "    </div>\n",
              "\n",
              "<style>\n",
              "  .colab-df-quickchart {\n",
              "    background-color: #E8F0FE;\n",
              "    border: none;\n",
              "    border-radius: 50%;\n",
              "    cursor: pointer;\n",
              "    display: none;\n",
              "    fill: #1967D2;\n",
              "    height: 32px;\n",
              "    padding: 0 0 0 0;\n",
              "    width: 32px;\n",
              "  }\n",
              "\n",
              "  .colab-df-quickchart:hover {\n",
              "    background-color: #E2EBFA;\n",
              "    box-shadow: 0px 1px 2px rgba(60, 64, 67, 0.3), 0px 1px 3px 1px rgba(60, 64, 67, 0.15);\n",
              "    fill: #174EA6;\n",
              "  }\n",
              "\n",
              "  [theme=dark] .colab-df-quickchart {\n",
              "    background-color: #3B4455;\n",
              "    fill: #D2E3FC;\n",
              "  }\n",
              "\n",
              "  [theme=dark] .colab-df-quickchart:hover {\n",
              "    background-color: #434B5C;\n",
              "    box-shadow: 0px 1px 3px 1px rgba(0, 0, 0, 0.15);\n",
              "    filter: drop-shadow(0px 1px 2px rgba(0, 0, 0, 0.3));\n",
              "    fill: #FFFFFF;\n",
              "  }\n",
              "</style>\n",
              "\n",
              "    <script>\n",
              "      async function quickchart(key) {\n",
              "        const containerElement = document.querySelector('#' + key);\n",
              "        const charts = await google.colab.kernel.invokeFunction(\n",
              "            'suggestCharts', [key], {});\n",
              "      }\n",
              "    </script>\n",
              "\n",
              "      <script>\n",
              "\n",
              "function displayQuickchartButton(domScope) {\n",
              "  let quickchartButtonEl =\n",
              "    domScope.querySelector('#df-9dad5c32-d9ab-42e0-98c7-c2caacdac3a9 button.colab-df-quickchart');\n",
              "  quickchartButtonEl.style.display =\n",
              "    google.colab.kernel.accessAllowed ? 'block' : 'none';\n",
              "}\n",
              "\n",
              "        displayQuickchartButton(document);\n",
              "      </script>\n",
              "      <style>\n",
              "    .colab-df-container {\n",
              "      display:flex;\n",
              "      flex-wrap:wrap;\n",
              "      gap: 12px;\n",
              "    }\n",
              "\n",
              "    .colab-df-convert {\n",
              "      background-color: #E8F0FE;\n",
              "      border: none;\n",
              "      border-radius: 50%;\n",
              "      cursor: pointer;\n",
              "      display: none;\n",
              "      fill: #1967D2;\n",
              "      height: 32px;\n",
              "      padding: 0 0 0 0;\n",
              "      width: 32px;\n",
              "    }\n",
              "\n",
              "    .colab-df-convert:hover {\n",
              "      background-color: #E2EBFA;\n",
              "      box-shadow: 0px 1px 2px rgba(60, 64, 67, 0.3), 0px 1px 3px 1px rgba(60, 64, 67, 0.15);\n",
              "      fill: #174EA6;\n",
              "    }\n",
              "\n",
              "    [theme=dark] .colab-df-convert {\n",
              "      background-color: #3B4455;\n",
              "      fill: #D2E3FC;\n",
              "    }\n",
              "\n",
              "    [theme=dark] .colab-df-convert:hover {\n",
              "      background-color: #434B5C;\n",
              "      box-shadow: 0px 1px 3px 1px rgba(0, 0, 0, 0.15);\n",
              "      filter: drop-shadow(0px 1px 2px rgba(0, 0, 0, 0.3));\n",
              "      fill: #FFFFFF;\n",
              "    }\n",
              "  </style>\n",
              "\n",
              "      <script>\n",
              "        const buttonEl =\n",
              "          document.querySelector('#df-e76f835f-dbf7-418e-b7a0-23d69af9d05f button.colab-df-convert');\n",
              "        buttonEl.style.display =\n",
              "          google.colab.kernel.accessAllowed ? 'block' : 'none';\n",
              "\n",
              "        async function convertToInteractive(key) {\n",
              "          const element = document.querySelector('#df-e76f835f-dbf7-418e-b7a0-23d69af9d05f');\n",
              "          const dataTable =\n",
              "            await google.colab.kernel.invokeFunction('convertToInteractive',\n",
              "                                                     [key], {});\n",
              "          if (!dataTable) return;\n",
              "\n",
              "          const docLinkHtml = 'Like what you see? Visit the ' +\n",
              "            '<a target=\"_blank\" href=https://colab.research.google.com/notebooks/data_table.ipynb>data table notebook</a>'\n",
              "            + ' to learn more about interactive tables.';\n",
              "          element.innerHTML = '';\n",
              "          dataTable['output_type'] = 'display_data';\n",
              "          await google.colab.output.renderOutput(dataTable, element);\n",
              "          const docLink = document.createElement('div');\n",
              "          docLink.innerHTML = docLinkHtml;\n",
              "          element.appendChild(docLink);\n",
              "        }\n",
              "      </script>\n",
              "    </div>\n",
              "  </div>\n"
            ]
          },
          "metadata": {},
          "execution_count": 27
        }
      ]
    },
    {
      "cell_type": "code",
      "source": [
        "import pandas as pd\n",
        "\n",
        "# Reading CSV from uploaded file\n",
        "from google.colab import files\n",
        "uploaded = files.upload()  # Upload the CSV file using the file upload widget\n",
        "\n",
        "df_uploaded_csv = pd.read_csv(next(iter(uploaded)))\n",
        "\n",
        "# Now you can work with df_uploaded_csv\n",
        "df_uploaded_csv.head()"
      ],
      "metadata": {
        "id": "37TojDDrSwyR"
      },
      "execution_count": null,
      "outputs": []
    },
    {
      "cell_type": "code",
      "source": [
        "df_uploaded_csv.head()"
      ],
      "metadata": {
        "colab": {
          "base_uri": "https://localhost:8080/",
          "height": 206
        },
        "id": "Cawl8EvFTNJ_",
        "outputId": "65fc124b-5a4d-4799-9dd5-e782bc6e347f"
      },
      "execution_count": 20,
      "outputs": [
        {
          "output_type": "execute_result",
          "data": {
            "text/plain": [
              "   ID          x          y           xm           ym DIVISION_NAME  \\\n",
              "0   1  88.255990  24.468378  323244.6799  2707198.588      RAJSHAHI   \n",
              "1   2  89.097064  23.987028  408149.5982  2653084.583      RAJSHAHI   \n",
              "2   3  89.024314  24.146635  400871.4946  2670806.562      RAJSHAHI   \n",
              "3   4  88.968068  24.144192  395154.5792  2670576.953      RAJSHAHI   \n",
              "4   5  89.287639  23.971969  427528.0026  2651306.118      RAJSHAHI   \n",
              "\n",
              "  DISTRICT_NAME          Land_type   pH  SOM        DEM      NDFI      NDVI  \n",
              "0        CHAPAI     Medium Lowland  7.5  1.9  14.000000  0.131788  0.013138  \n",
              "1         PABNA     Medium Lowland  8.1  0.6  13.659257 -0.160908  0.417266  \n",
              "2        NATORE           Highland  8.1  1.4  16.362682 -0.037456  0.332249  \n",
              "3        NATORE  Medium Highland 2  8.1  2.0   7.431497  0.075036 -0.004695  \n",
              "4         PABNA     Medium Lowland  7.6  2.7  12.644185 -0.123364  0.372567  "
            ],
            "text/html": [
              "\n",
              "\n",
              "  <div id=\"df-3d393b6b-8280-49ea-8050-9a4db2802f23\">\n",
              "    <div class=\"colab-df-container\">\n",
              "      <div>\n",
              "<style scoped>\n",
              "    .dataframe tbody tr th:only-of-type {\n",
              "        vertical-align: middle;\n",
              "    }\n",
              "\n",
              "    .dataframe tbody tr th {\n",
              "        vertical-align: top;\n",
              "    }\n",
              "\n",
              "    .dataframe thead th {\n",
              "        text-align: right;\n",
              "    }\n",
              "</style>\n",
              "<table border=\"1\" class=\"dataframe\">\n",
              "  <thead>\n",
              "    <tr style=\"text-align: right;\">\n",
              "      <th></th>\n",
              "      <th>ID</th>\n",
              "      <th>x</th>\n",
              "      <th>y</th>\n",
              "      <th>xm</th>\n",
              "      <th>ym</th>\n",
              "      <th>DIVISION_NAME</th>\n",
              "      <th>DISTRICT_NAME</th>\n",
              "      <th>Land_type</th>\n",
              "      <th>pH</th>\n",
              "      <th>SOM</th>\n",
              "      <th>DEM</th>\n",
              "      <th>NDFI</th>\n",
              "      <th>NDVI</th>\n",
              "    </tr>\n",
              "  </thead>\n",
              "  <tbody>\n",
              "    <tr>\n",
              "      <th>0</th>\n",
              "      <td>1</td>\n",
              "      <td>88.255990</td>\n",
              "      <td>24.468378</td>\n",
              "      <td>323244.6799</td>\n",
              "      <td>2707198.588</td>\n",
              "      <td>RAJSHAHI</td>\n",
              "      <td>CHAPAI</td>\n",
              "      <td>Medium Lowland</td>\n",
              "      <td>7.5</td>\n",
              "      <td>1.9</td>\n",
              "      <td>14.000000</td>\n",
              "      <td>0.131788</td>\n",
              "      <td>0.013138</td>\n",
              "    </tr>\n",
              "    <tr>\n",
              "      <th>1</th>\n",
              "      <td>2</td>\n",
              "      <td>89.097064</td>\n",
              "      <td>23.987028</td>\n",
              "      <td>408149.5982</td>\n",
              "      <td>2653084.583</td>\n",
              "      <td>RAJSHAHI</td>\n",
              "      <td>PABNA</td>\n",
              "      <td>Medium Lowland</td>\n",
              "      <td>8.1</td>\n",
              "      <td>0.6</td>\n",
              "      <td>13.659257</td>\n",
              "      <td>-0.160908</td>\n",
              "      <td>0.417266</td>\n",
              "    </tr>\n",
              "    <tr>\n",
              "      <th>2</th>\n",
              "      <td>3</td>\n",
              "      <td>89.024314</td>\n",
              "      <td>24.146635</td>\n",
              "      <td>400871.4946</td>\n",
              "      <td>2670806.562</td>\n",
              "      <td>RAJSHAHI</td>\n",
              "      <td>NATORE</td>\n",
              "      <td>Highland</td>\n",
              "      <td>8.1</td>\n",
              "      <td>1.4</td>\n",
              "      <td>16.362682</td>\n",
              "      <td>-0.037456</td>\n",
              "      <td>0.332249</td>\n",
              "    </tr>\n",
              "    <tr>\n",
              "      <th>3</th>\n",
              "      <td>4</td>\n",
              "      <td>88.968068</td>\n",
              "      <td>24.144192</td>\n",
              "      <td>395154.5792</td>\n",
              "      <td>2670576.953</td>\n",
              "      <td>RAJSHAHI</td>\n",
              "      <td>NATORE</td>\n",
              "      <td>Medium Highland 2</td>\n",
              "      <td>8.1</td>\n",
              "      <td>2.0</td>\n",
              "      <td>7.431497</td>\n",
              "      <td>0.075036</td>\n",
              "      <td>-0.004695</td>\n",
              "    </tr>\n",
              "    <tr>\n",
              "      <th>4</th>\n",
              "      <td>5</td>\n",
              "      <td>89.287639</td>\n",
              "      <td>23.971969</td>\n",
              "      <td>427528.0026</td>\n",
              "      <td>2651306.118</td>\n",
              "      <td>RAJSHAHI</td>\n",
              "      <td>PABNA</td>\n",
              "      <td>Medium Lowland</td>\n",
              "      <td>7.6</td>\n",
              "      <td>2.7</td>\n",
              "      <td>12.644185</td>\n",
              "      <td>-0.123364</td>\n",
              "      <td>0.372567</td>\n",
              "    </tr>\n",
              "  </tbody>\n",
              "</table>\n",
              "</div>\n",
              "      <button class=\"colab-df-convert\" onclick=\"convertToInteractive('df-3d393b6b-8280-49ea-8050-9a4db2802f23')\"\n",
              "              title=\"Convert this dataframe to an interactive table.\"\n",
              "              style=\"display:none;\">\n",
              "\n",
              "  <svg xmlns=\"http://www.w3.org/2000/svg\" height=\"24px\"viewBox=\"0 0 24 24\"\n",
              "       width=\"24px\">\n",
              "    <path d=\"M0 0h24v24H0V0z\" fill=\"none\"/>\n",
              "    <path d=\"M18.56 5.44l.94 2.06.94-2.06 2.06-.94-2.06-.94-.94-2.06-.94 2.06-2.06.94zm-11 1L8.5 8.5l.94-2.06 2.06-.94-2.06-.94L8.5 2.5l-.94 2.06-2.06.94zm10 10l.94 2.06.94-2.06 2.06-.94-2.06-.94-.94-2.06-.94 2.06-2.06.94z\"/><path d=\"M17.41 7.96l-1.37-1.37c-.4-.4-.92-.59-1.43-.59-.52 0-1.04.2-1.43.59L10.3 9.45l-7.72 7.72c-.78.78-.78 2.05 0 2.83L4 21.41c.39.39.9.59 1.41.59.51 0 1.02-.2 1.41-.59l7.78-7.78 2.81-2.81c.8-.78.8-2.07 0-2.86zM5.41 20L4 18.59l7.72-7.72 1.47 1.35L5.41 20z\"/>\n",
              "  </svg>\n",
              "      </button>\n",
              "\n",
              "\n",
              "\n",
              "    <div id=\"df-8f64d473-17c9-437c-ab18-65469fd4fe18\">\n",
              "      <button class=\"colab-df-quickchart\" onclick=\"quickchart('df-8f64d473-17c9-437c-ab18-65469fd4fe18')\"\n",
              "              title=\"Suggest charts.\"\n",
              "              style=\"display:none;\">\n",
              "\n",
              "<svg xmlns=\"http://www.w3.org/2000/svg\" height=\"24px\"viewBox=\"0 0 24 24\"\n",
              "     width=\"24px\">\n",
              "    <g>\n",
              "        <path d=\"M19 3H5c-1.1 0-2 .9-2 2v14c0 1.1.9 2 2 2h14c1.1 0 2-.9 2-2V5c0-1.1-.9-2-2-2zM9 17H7v-7h2v7zm4 0h-2V7h2v10zm4 0h-2v-4h2v4z\"/>\n",
              "    </g>\n",
              "</svg>\n",
              "      </button>\n",
              "    </div>\n",
              "\n",
              "<style>\n",
              "  .colab-df-quickchart {\n",
              "    background-color: #E8F0FE;\n",
              "    border: none;\n",
              "    border-radius: 50%;\n",
              "    cursor: pointer;\n",
              "    display: none;\n",
              "    fill: #1967D2;\n",
              "    height: 32px;\n",
              "    padding: 0 0 0 0;\n",
              "    width: 32px;\n",
              "  }\n",
              "\n",
              "  .colab-df-quickchart:hover {\n",
              "    background-color: #E2EBFA;\n",
              "    box-shadow: 0px 1px 2px rgba(60, 64, 67, 0.3), 0px 1px 3px 1px rgba(60, 64, 67, 0.15);\n",
              "    fill: #174EA6;\n",
              "  }\n",
              "\n",
              "  [theme=dark] .colab-df-quickchart {\n",
              "    background-color: #3B4455;\n",
              "    fill: #D2E3FC;\n",
              "  }\n",
              "\n",
              "  [theme=dark] .colab-df-quickchart:hover {\n",
              "    background-color: #434B5C;\n",
              "    box-shadow: 0px 1px 3px 1px rgba(0, 0, 0, 0.15);\n",
              "    filter: drop-shadow(0px 1px 2px rgba(0, 0, 0, 0.3));\n",
              "    fill: #FFFFFF;\n",
              "  }\n",
              "</style>\n",
              "\n",
              "    <script>\n",
              "      async function quickchart(key) {\n",
              "        const containerElement = document.querySelector('#' + key);\n",
              "        const charts = await google.colab.kernel.invokeFunction(\n",
              "            'suggestCharts', [key], {});\n",
              "      }\n",
              "    </script>\n",
              "\n",
              "      <script>\n",
              "\n",
              "function displayQuickchartButton(domScope) {\n",
              "  let quickchartButtonEl =\n",
              "    domScope.querySelector('#df-8f64d473-17c9-437c-ab18-65469fd4fe18 button.colab-df-quickchart');\n",
              "  quickchartButtonEl.style.display =\n",
              "    google.colab.kernel.accessAllowed ? 'block' : 'none';\n",
              "}\n",
              "\n",
              "        displayQuickchartButton(document);\n",
              "      </script>\n",
              "      <style>\n",
              "    .colab-df-container {\n",
              "      display:flex;\n",
              "      flex-wrap:wrap;\n",
              "      gap: 12px;\n",
              "    }\n",
              "\n",
              "    .colab-df-convert {\n",
              "      background-color: #E8F0FE;\n",
              "      border: none;\n",
              "      border-radius: 50%;\n",
              "      cursor: pointer;\n",
              "      display: none;\n",
              "      fill: #1967D2;\n",
              "      height: 32px;\n",
              "      padding: 0 0 0 0;\n",
              "      width: 32px;\n",
              "    }\n",
              "\n",
              "    .colab-df-convert:hover {\n",
              "      background-color: #E2EBFA;\n",
              "      box-shadow: 0px 1px 2px rgba(60, 64, 67, 0.3), 0px 1px 3px 1px rgba(60, 64, 67, 0.15);\n",
              "      fill: #174EA6;\n",
              "    }\n",
              "\n",
              "    [theme=dark] .colab-df-convert {\n",
              "      background-color: #3B4455;\n",
              "      fill: #D2E3FC;\n",
              "    }\n",
              "\n",
              "    [theme=dark] .colab-df-convert:hover {\n",
              "      background-color: #434B5C;\n",
              "      box-shadow: 0px 1px 3px 1px rgba(0, 0, 0, 0.15);\n",
              "      filter: drop-shadow(0px 1px 2px rgba(0, 0, 0, 0.3));\n",
              "      fill: #FFFFFF;\n",
              "    }\n",
              "  </style>\n",
              "\n",
              "      <script>\n",
              "        const buttonEl =\n",
              "          document.querySelector('#df-3d393b6b-8280-49ea-8050-9a4db2802f23 button.colab-df-convert');\n",
              "        buttonEl.style.display =\n",
              "          google.colab.kernel.accessAllowed ? 'block' : 'none';\n",
              "\n",
              "        async function convertToInteractive(key) {\n",
              "          const element = document.querySelector('#df-3d393b6b-8280-49ea-8050-9a4db2802f23');\n",
              "          const dataTable =\n",
              "            await google.colab.kernel.invokeFunction('convertToInteractive',\n",
              "                                                     [key], {});\n",
              "          if (!dataTable) return;\n",
              "\n",
              "          const docLinkHtml = 'Like what you see? Visit the ' +\n",
              "            '<a target=\"_blank\" href=https://colab.research.google.com/notebooks/data_table.ipynb>data table notebook</a>'\n",
              "            + ' to learn more about interactive tables.';\n",
              "          element.innerHTML = '';\n",
              "          dataTable['output_type'] = 'display_data';\n",
              "          await google.colab.output.renderOutput(dataTable, element);\n",
              "          const docLink = document.createElement('div');\n",
              "          docLink.innerHTML = docLinkHtml;\n",
              "          element.appendChild(docLink);\n",
              "        }\n",
              "      </script>\n",
              "    </div>\n",
              "  </div>\n"
            ]
          },
          "metadata": {},
          "execution_count": 20
        }
      ]
    }
  ]
}